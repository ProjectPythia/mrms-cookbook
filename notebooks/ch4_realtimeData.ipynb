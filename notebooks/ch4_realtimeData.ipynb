{
 "cells": [
  {
   "cell_type": "markdown",
   "metadata": {},
   "source": [
    "![MRMS Visualization](images/realtime_header.png)"
   ]
  },
  {
   "cell_type": "markdown",
   "metadata": {},
   "source": [
    "# Chapter 5: Real-time MRMS Visualization\n",
    "\n",
    "This chapter walks you through the process of accessing and visualizing near real-time **Multi-Radar/Multi-Sensor System (MRMS)** data from **Amazon Web Services (AWS)**. You will select a region and radar product, retrieve the latest data, and display it in an interactive plot.\n",
    "\n",
    "---\n",
    "\n",
    "### Purpose\n",
    "To provide hands-on experience in requesting and working with real-time MRMS data from AWS S3.\n",
    "\n",
    "### Audience\n",
    "- Users with at least **5 GB of memory** in their computing environment  \n",
    "- A basic familiarity with MRMS concepts is helpful, but not required  \n",
    "- No programming experience is necessary to run the notebook\n",
    "\n",
    "### Expected Outcome\n",
    "By the end of this chapter, you will produce an **interactive visualization** of MRMS imagery for your chosen region and product.\n",
    "\n",
    "### Estimated Time\n",
    "- **15 minutes** — Run the notebook and review the steps  \n",
    "- **30 minutes** — Build enough familiarity to reproduce the workflow independently\n"
   ]
  },
  {
   "cell_type": "markdown",
   "metadata": {},
   "source": [
    "---"
   ]
  },
  {
   "cell_type": "markdown",
   "metadata": {},
   "source": [
    "## 📦 Imports"
   ]
  },
  {
   "cell_type": "code",
   "execution_count": null,
   "metadata": {},
   "outputs": [],
   "source": [
    "# Packages required to request and open data from AWS S3\n",
    "import s3fs\n",
    "import urllib\n",
    "import tempfile\n",
    "import gzip\n",
    "import xarray as xr\n",
    "\n",
    "# Packages required for data visualization\n",
    "import datetime\n",
    "from datetime import timezone\n",
    "import numpy.ma as ma\n",
    "from metpy.plots import ctables\n",
    "import numpy as np\n",
    "import holoviews as hv\n",
    "import pandas as pd\n",
    "import panel as pn\n",
    "import hvplot.xarray \n",
    "import matplotlib.colors as mcls\n",
    "from matplotlib.colors import Normalize\n",
    "#pn.extension('bokeh')\n",
    "hv.extension('bokeh')"
   ]
  },
  {
   "cell_type": "markdown",
   "metadata": {},
   "source": [
    "---"
   ]
  },
  {
   "cell_type": "markdown",
   "metadata": {},
   "source": [
    "## 🌧️ About MRMS"
   ]
  },
  {
   "cell_type": "code",
   "execution_count": null,
   "metadata": {},
   "outputs": [],
   "source": [
    "# ![Nexrad, rain gauge, model photos](images/awsnoaa_logos.png)"
   ]
  },
  {
   "cell_type": "markdown",
   "metadata": {},
   "source": [
    "The Multi-Radar/Multi-Sensor System (MRMS) produces products for public infrastructure, weather forecasts and warnings, aviation, and numerical weather prediction. It provides high spatial (1-km) and temporal (2-min) resolution radar products at 31 vertical levels, and ingests data from numerous sources (including radar networks across the US and Canada, surface and upper air observations, lightning detection systems, satellite observations, and forecast models)[<sup>1</sup>](https://www.nssl.noaa.gov/projects/mrms/)\n",
    "\n",
    "\n",
    "For more information, please refer to Chapter 1 of this project: [Learning about MRMS](ch1-aboutMRMS.ipynb)."
   ]
  },
  {
   "cell_type": "markdown",
   "metadata": {},
   "source": [
    "---"
   ]
  },
  {
   "cell_type": "markdown",
   "metadata": {},
   "source": [
    "## ☁️ About AWS and NOAA's Open Data Dissemination Program"
   ]
  },
  {
   "cell_type": "code",
   "execution_count": null,
   "metadata": {},
   "outputs": [],
   "source": [
    "# ![AWS and NOAA logos](images/awsnoaa_logos.png)"
   ]
  },
  {
   "cell_type": "markdown",
   "metadata": {},
   "source": [
    "The Amazon Web Services Simple Storage Service (AWS S3) is cloud-based object storage service. Through a public-private partnership with the National Oceanic and Atmospheric Administration (NOAA)'s Open Data Dissemination Program (NODD), NOAA is able to store multiple petabytes of open-access earth science data on AWS S3, including the MRMS dataset. This allows users to quickly and freely access MRMS data in real-time (with an update frequency of two minutes) without having to download the data to their personal systems. \n",
    "\n",
    "Because of this partnership, we can access the data as an anonymous client -- no login required!"
   ]
  },
  {
   "cell_type": "code",
   "execution_count": null,
   "metadata": {},
   "outputs": [],
   "source": [
    "# Initialize the S3 filesystem as anonymous\n",
    "aws = s3fs.S3FileSystem(anon=True)"
   ]
  },
  {
   "cell_type": "markdown",
   "metadata": {},
   "source": [
    "You can explore the S3 bucket that holds MRMS data to assess data availability and structure -- just visit [this link](https://noaa-mrms-pds.s3.amazonaws.com/index.html), which takes you to the MRMS bucket."
   ]
  },
  {
   "cell_type": "markdown",
   "metadata": {},
   "source": [
    ":::{hint}\n",
    "You can run `aws.ls` to see the file structure in code. Try it yourself!\n",
    "\n",
    "```python\n",
    "# Example code to execute: first five files of your search\n",
    "print(aws.ls(f'noaa-mrms-pds/CONUS/')[0:5])"
   ]
  },
  {
   "cell_type": "markdown",
   "metadata": {},
   "source": [
    "---"
   ]
  },
  {
   "cell_type": "markdown",
   "metadata": {},
   "source": [
    "## 🎯 Data selection\n",
    "\n",
    "For ease of use, I've integrated widgets (drop-down menus!) that allow you to make selections from AWS, and refined a selection of data variables as a demonstration. You can choose between the QC'd Merged Reflectivity Composite (the maximum reflectivity in a column, as a composite), a 12-hour multisensor QPE from Pass 1 (12h rainfall accumulation estimate, using data from multiple sensors), and the Probability of Severe Hail (probability of 0.75-inch diameter hail). \n",
    "\n",
    "Now, you have the option to select a region and a radar product to visualize in near real-time. Go ahead and use the drop-down menus to select a region, a radar product, then *run the next cell*. If you run the drop-down cell again, it will reset your values. "
   ]
  },
  {
   "cell_type": "code",
   "execution_count": null,
   "metadata": {},
   "outputs": [],
   "source": [
    "# Define dropdown options -- region and product from the AWS structure\n",
    "region_options = [\"CONUS\", \"ALASKA\", \"CARIB\", \"GUAM\", \"HAWAII\"]\n",
    "product_options = [\n",
    "    \"MergedReflectivityQCComposite_00.50\",\n",
    "    \"MultiSensor_QPE_12H_Pass1_00.00\",\n",
    "    \"POSH_00.50\"\n",
    "]\n",
    "\n",
    "# Create dropdown widgets for user selection\n",
    "region_choice = pn.widgets.Select(name='Region', options=region_options, width=325)\n",
    "product_choice = pn.widgets.Select(name='MRMS product', options=product_options, width=325)\n",
    "\n",
    "pn.Column(region_choice, product_choice)"
   ]
  },
  {
   "cell_type": "markdown",
   "metadata": {},
   "source": [
    "Congratulations, you've made your data selection!\n",
    "\n",
    "If you choose to adapt this notebook to your own workflow, this section can easily be adjusted to your own use case. Simply delete the cell above, then update the cell below to reflect the region and data variable you wish to use. If you decide to use a product that is not covered in this notebook, you can search through [all available data products on AWS](https://noaa-mrms-pds.s3.amazonaws.com/index.html#CONUS/) and paste it in verbatim. It may be helpful to cross-reference these variables against the [NSSL variable table](https://www.nssl.noaa.gov/projects/mrms/operational/tables.php) and \n",
    "[Chapter 1](link_to_first_notebook.ipynb)."
   ]
  },
  {
   "cell_type": "code",
   "execution_count": null,
   "metadata": {},
   "outputs": [],
   "source": [
    "# Retrieve the user selection from 'Region' \n",
    "region = region_choice.value\n",
    "\n",
    "# Retrieve the user selection from 'MRMS product'\n",
    "product = product_choice.value"
   ]
  },
  {
   "cell_type": "markdown",
   "metadata": {},
   "source": [
    "---"
   ]
  },
  {
   "cell_type": "markdown",
   "metadata": {},
   "source": [
    "## 📡 Data request\n",
    "Now that you've made your variable selection, it's time to read in the data from AWS. First, we retrieve the current UTC datetime so that we can request files from today's S3 bucket."
   ]
  },
  {
   "cell_type": "code",
   "execution_count": null,
   "metadata": {},
   "outputs": [],
   "source": [
    "# Retrieve the current datetime in UTC to know which bucket to query\n",
    "now = datetime.datetime.now(datetime.UTC)\n",
    "datestring = now.strftime('%Y%m%d')"
   ]
  },
  {
   "cell_type": "markdown",
   "metadata": {},
   "source": [
    "Next, we query the S3 bucket to make sure the data is available on AWS. If this section errors, reference [the S3](https://noaa-mrms-pds.s3.amazonaws.com/index.html#CONUS/) bucket to confirm that your requested region, date, and product exists and is entered correctly. "
   ]
  },
  {
   "cell_type": "code",
   "execution_count": null,
   "metadata": {},
   "outputs": [],
   "source": [
    "# Query the S3 bucket for the available files that meet the criteria\n",
    "try:\n",
    "    data_files = aws.ls(f'noaa-mrms-pds/{region}/{product}/{datestring}/', refresh=True)  \n",
    "except Exception as e:\n",
    "    print(f\"Error accessing S3 bucket: {e}\")\n",
    "    data_files = []"
   ]
  },
  {
   "cell_type": "markdown",
   "metadata": {},
   "source": [
    "Finally, we make the data request and read it in using xarray. This block of code finds the most recent file that fits your criteria, ensures that the file was created recently (within two hours), then makes the data request. Due to way the data was uploaded to S3, the file arrives as a compressed grib2 file. This code decompresses the file and reads it in using xarray, making the format more easily incorporated into our workflow. "
   ]
  },
  {
   "cell_type": "code",
   "execution_count": null,
   "metadata": {},
   "outputs": [],
   "source": [
    "if data_files:\n",
    "    # Choose the last file from S3 for the most recent data\n",
    "    most_recent_file = data_files[-1]\n",
    "\n",
    "    # Check that the most recent file is within 2 hours of current time\n",
    "    timestamp_str = most_recent_file.split('_')[-1].replace('.grib2.gz', '')\n",
    "    dt = datetime.datetime.strptime(timestamp_str, \"%Y%m%d-%H%M%S\").replace(tzinfo=timezone.utc)\n",
    "    if abs((now - dt).total_seconds()) <= 120 * 60:\n",
    "        # Download file to memory, decompress from .gz, and read into xarray\n",
    "        try:\n",
    "            response = urllib.request.urlopen(f\"https://noaa-mrms-pds.s3.amazonaws.com/{most_recent_file[14:]}\")\n",
    "            compressed_file = response.read()\n",
    "\n",
    "            with tempfile.NamedTemporaryFile(suffix=\".grib2\") as f:\n",
    "                f.write(gzip.decompress(compressed_file))\n",
    "                f.flush()\n",
    "                data = xr.load_dataarray(f.name, engine=\"cfgrib\", decode_timedelta=True)\n",
    "        except Exception as e:\n",
    "            print(f\"Failed to process {product}: {e}\")"
   ]
  },
  {
   "cell_type": "markdown",
   "metadata": {},
   "source": [
    "---"
   ]
  },
  {
   "cell_type": "markdown",
   "metadata": {},
   "source": [
    "## 🗺️ Visualization\n",
    "Now that we have the data read into memory using xarray, it is quite simple to plot. Here, we use hvplot to make an interactive visualization that allows the user to zoom in to a region of interest and mouse over values to better understand the product's functionality over a specific region."
   ]
  },
  {
   "cell_type": "code",
   "execution_count": null,
   "metadata": {},
   "outputs": [],
   "source": [
    "# Mask data for neater visualization\n",
    "data = data.where(data > 0, np.nan)\n",
    "\n",
    "# Get the NWS Reflectivity colormap and normalize range\n",
    "ref_norm, ref_cmap = ctables.registry.get_with_steps('NWSReflectivity', 5, 5)\n",
    "\n",
    "# Convert to hex colors for Bokeh\n",
    "norm = Normalize(vmin=ref_norm.vmin, vmax=ref_norm.vmax)\n",
    "hex_cmap = [ref_cmap(norm(val)) for val in range(ref_norm.vmin, ref_norm.vmax + 5, 5)]\n",
    "hex_cmap = [mcls.to_hex(c) for c in hex_cmap]\n",
    "\n",
    "# Plot using hvplot\n",
    "reflectivity_plot = data.hvplot.image(\n",
    "    x=\"longitude\", y=\"latitude\",\n",
    "    cmap=hex_cmap,\n",
    "    colorbar=True,\n",
    "    geo=True, \n",
    "    tiles=True, \n",
    "    alpha=0.7,\n",
    "    clim=(ref_norm.vmin, ref_norm.vmax),\n",
    "    title=f\"{product} - {pd.to_datetime(data.time.values).strftime('%b %d, %Y at %H:%M:%S')} UTC\",\n",
    "    frame_width=700,\n",
    "    frame_height=500,\n",
    "    xlabel='Longitude',\n",
    "    ylabel='Latitude',\n",
    "    tools=['hover']\n",
    ")\n",
    "\n",
    "reflectivity_plot"
   ]
  },
  {
   "cell_type": "markdown",
   "metadata": {},
   "source": [
    "Above is your visualization! You can use the menu bar at the upper right side of the plot to pan around the plot, zoom in to a region of interest, and reset your selections to the default map. If you mouse over the values on the screen, you will see the latitude, longitude, and value associated with the selected product. "
   ]
  },
  {
   "cell_type": "markdown",
   "metadata": {},
   "source": [
    "## 🏆 Bonus Challenges\n",
    "Congratulations on the completion of this notebook! You have successfully selected a region and product, queried the AWS S3 bucket, and visualized MRMS data in near real-time.\n",
    "\n",
    "If you'd like to continue this analysis, I've provided a couple of bonus challenges. Click on the drop-down menu to view the bonus challenge according to your desired level of difficulty. "
   ]
  },
  {
   "cell_type": "markdown",
   "metadata": {},
   "source": [
    "```{dropdown} 🟢 Challenge (easy)\n",
    ":class: tip\n",
    "\n",
    "Use the drop-down widgets in this notebook to plot a different project and region from your initial run!\n"
   ]
  },
  {
   "cell_type": "markdown",
   "metadata": {},
   "source": [
    "```{dropdown} 🟡 Challenge (medium)\n",
    ":class: warning\n",
    "\n",
    "Delete the widget cell and use populate the notebook with a hard-coded \"region\" and \"product\" variable.  \n",
    "Find a variable that was not covered in this notebook using the [AWS S3 bucket](https://noaa-mrms-pds.s3.amazonaws.com/index.html).       \n",
    "\n",
    "```{dropdown} 💡 Hints\n",
    "- Make sure to copy the variable names from the AWS Explorer *exactly* as you see them on screen, or your bucket access step will error.       \n",
    "- The visualization step has the correct framework for a new product, but has been customized for the three examples in this notebook.  \n",
    "- Make sure to find a good color bar and reformat the name of your product to make a more beautiful plot.\n"
   ]
  },
  {
   "cell_type": "markdown",
   "metadata": {},
   "source": [
    "```{dropdown} 🔴 Challenge (difficult)\n",
    ":class: danger\n",
    "\n",
    "Turn this notebook into a Python script, then use cron to create an updated plot from MRMS data every hour.  \n",
    "Incorporate this plot into a web page, send it to your friend, or try it just for fun!      \n",
    "\n",
    "```{dropdown} 💡 Hint\n",
    "See the appendix for static plotting code to get you started.\n"
   ]
  },
  {
   "cell_type": "markdown",
   "metadata": {},
   "source": [
    "---"
   ]
  },
  {
   "cell_type": "markdown",
   "metadata": {},
   "source": [
    "## 📚 Resources and references"
   ]
  },
  {
   "cell_type": "markdown",
   "metadata": {},
   "source": [
    "1. Things\n",
    "2. Second things"
   ]
  },
  {
   "cell_type": "markdown",
   "metadata": {},
   "source": [
    "## 🛠️ Appendix\n",
    "If you'd prefer to plot these data as a static plot, below is some sample code to kickstart your plotting journey. "
   ]
  },
  {
   "cell_type": "code",
   "execution_count": null,
   "metadata": {},
   "outputs": [],
   "source": [
    "\"\"\"\n",
    "import matplotlib.pyplot as plt\n",
    "import cartopy.crs as ccrs\n",
    "import cartopy.feature as cfeature\n",
    "    \n",
    "lons = data.longitude\n",
    "lats = data.latitude\n",
    "values = data.values\n",
    "date = data.time.values\n",
    "\n",
    "minLon = lons.min() \n",
    "maxLon = lons.max()\n",
    "minLat = lats.min()\n",
    "maxLat = lats.max()\n",
    "\n",
    "fig = plt.figure(figsize=(12,6), facecolor='w', edgecolor='k')\n",
    "ax = fig.add_axes([0, 0, 1, 1], projection=ccrs.Mercator())\n",
    "ax.set_extent([minLon, maxLon, minLat, maxLat], crs=ccrs.Geodetic())\n",
    "\n",
    "# Set colors\n",
    "ref_norm, ref_cmap = ctables.registry.get_with_steps('NWSReflectivity', 5, 5)\n",
    "units = \"Reflectivity (dBZ)\"\n",
    "title = \"MRMS Merged Reflectivity\"\n",
    "\n",
    "# Add Boundaries\n",
    "ax.add_feature(cfeature.STATES, linewidth=0.25)\n",
    "\n",
    "# Plot Data\n",
    "radarplot = ax.pcolormesh(lons, lats, values, transform=ccrs.PlateCarree(), cmap=ref_cmap, norm=ref_norm)\n",
    "cbar = plt.colorbar(radarplot)\n",
    "cbar.set_label(units)\n",
    "\n",
    "plt.title(f\"{title}\", loc='left', fontweight='bold')\n",
    "#plt.title('{}'.format(pd.to_datetime(date).strftime('%d %B %Y at %H:%M UTC')), loc='right')\n",
    "\n",
    "plt.show()\n",
    "\n",
    "\"\"\""
   ]
  }
 ],
 "metadata": {
  "kernelspec": {
   "display_name": "Python 3 (ipykernel)",
   "language": "python",
   "name": "python3"
  },
  "language_info": {
   "codemirror_mode": {
    "name": "ipython",
    "version": 3
   },
   "file_extension": ".py",
   "mimetype": "text/x-python",
   "name": "python",
   "nbconvert_exporter": "python",
   "pygments_lexer": "ipython3",
   "version": "3.12.8"
  },
  "nbdime-conflicts": {
   "local_diff": [
    {
     "diff": [
      {
       "diff": [
        {
         "key": 0,
         "op": "addrange",
         "valuelist": [
          "Python 3"
         ]
        },
        {
         "key": 0,
         "length": 1,
         "op": "removerange"
        }
       ],
       "key": "display_name",
       "op": "patch"
      }
     ],
     "key": "kernelspec",
     "op": "patch"
    }
   ],
   "remote_diff": [
    {
     "diff": [
      {
       "diff": [
        {
         "key": 0,
         "op": "addrange",
         "valuelist": [
          "Python3"
         ]
        },
        {
         "key": 0,
         "length": 1,
         "op": "removerange"
        }
       ],
       "key": "display_name",
       "op": "patch"
      }
     ],
     "key": "kernelspec",
     "op": "patch"
    }
   ]
  },
  "toc-autonumbering": false
 },
 "nbformat": 4,
 "nbformat_minor": 4
}
