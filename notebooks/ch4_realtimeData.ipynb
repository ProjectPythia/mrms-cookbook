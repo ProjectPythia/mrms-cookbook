{
 "cells": [
  {
   "cell_type": "markdown",
   "metadata": {
    "trusted": false
   },
   "source": [
    "# Real-time MRMS Visualization"
   ]
  },
  {
   "cell_type": "markdown",
   "metadata": {},
   "source": [
    "#### **Intent:** This Project Pythia notebook allows a user to request and visualize near real-time Multi-Radar/Multi-Sensor System (MRMS) data from AWS S3. \n",
    "#### **Audience:** Anyone with at least 4GB (??????) of memory on their computer or computing environment and a fundamental knowledge of MRMS. No programming experience is required to go run this notebook, but it will help you understand where this data is coming from.\n",
    "#### **Outcome:** An interactive plot showing MRMS imagery from a selected region and radar product.\n",
    "#### **Time to Learn:** 5 minutes."
   ]
  },
  {
   "cell_type": "markdown",
   "metadata": {
    "trusted": false
   },
   "source": [
    "---"
   ]
  },
  {
   "cell_type": "markdown",
   "metadata": {
    "trusted": false
   },
   "source": [
    "## Overview\n",
    "Here's the road map for the notebook: \n",
    "1. Learn about MRMS\n",
    "2. Import required packages\n",
    "3. Explore near real-time MRMS data hosted on AWS\n",
    "4. Select a region and product for viewing\n",
    "5. Access selected MRMS data from AWS\n",
    "6. Visualize a selected variable using an interactive plot"
   ]
  },
  {
   "cell_type": "markdown",
   "metadata": {
    "trusted": false
   },
   "source": [
    "---"
   ]
  },
  {
   "cell_type": "markdown",
   "metadata": {},
   "source": [
    "## About MRMS"
   ]
  },
  {
   "cell_type": "markdown",
   "metadata": {},
   "source": [
    "The Multi-Radar/Multi-Sensor System (MRMS) produces products for public infrastructure, weather forecasts and warnings, aviation, and numerical weather prediction. It provides high spatial (1-km) and temporal (2-min) resolution radar products at 31 vertical levels, and ingests data from numerous sources (including radar networks across the US and Canada, surface and upper air observations, lightning detection systems, satellite observations, and forecast models)[chapter 1](https://www.nssl.noaa.gov/projects/mrms/).\n",
    "\n",
    "For more information, please refer to Chapter 1 of this project: [Learning about MRMS](ch1-aboutMRMS.ipynb)."
   ]
  },
  {
   "cell_type": "markdown",
   "metadata": {},
   "source": [
    "---"
   ]
  },
  {
   "cell_type": "markdown",
   "metadata": {
    "trusted": false
   },
   "source": [
    "## Imports"
   ]
  },
  {
   "cell_type": "markdown",
   "metadata": {},
   "source": [
    "Here are all required Python packages to run this code. "
   ]
  },
  {
   "cell_type": "code",
   "execution_count": null,
   "metadata": {
    "trusted": true
   },
   "outputs": [],
   "source": [
    "# Packages required to request and open data from AWS S3\n",
    "import s3fs\n",
    "import urllib\n",
    "import tempfile\n",
    "import gzip\n",
    "import xarray as xr\n",
    "\n",
    "# Packages required for user interface\n",
    "import ipywidgets as widgets\n",
    "\n",
    "# Packages required for data visualization\n",
    "import datetime\n",
    "from datetime import timezone\n",
    "import numpy.ma as ma\n",
    "from metpy.plots import ctables\n",
    "import numpy as np\n",
    "import holoviews as hv\n",
    "import pandas as pd\n",
    "import hvplot.xarray \n",
    "import matplotlib.colors as mcls\n",
    "from matplotlib.colors import Normalize\n",
    "hv.extension('bokeh')"
   ]
  },
  {
   "cell_type": "markdown",
   "metadata": {},
   "source": [
    "---"
   ]
  },
  {
   "cell_type": "markdown",
   "metadata": {},
   "source": [
    "## About AWS and NODD"
   ]
  },
  {
   "cell_type": "markdown",
   "metadata": {},
   "source": [
    "The Amazon Web Services Simple Storage Service (AWS S3) is cloud-based object storage service. Through a public-private partnership with the National Oceanic and Atmospheric Administration (NOAA)'s Open Data Dissemination Program (NODD), NOAA is able to store multiple petabytes of open-access earth science data on AWS S3, including the MRMS dataset. This allows users to quickly and freely access MRMS data in real-time (with an update frequency of two minutes) without having to download the data to their personal systems. \n",
    "\n",
    "Because of this partnership, we can access the data as an anonymous client -- no login required!"
   ]
  },
  {
   "cell_type": "code",
   "execution_count": null,
   "metadata": {},
   "outputs": [],
   "source": [
    "# Initialize the S3 filesystem as anonymous\n",
    "aws = s3fs.S3FileSystem(anon=True)"
   ]
  },
  {
   "cell_type": "markdown",
   "metadata": {},
   "source": [
    "You can explore the S3 bucket that holds MRMS data to assess data availability and structure -- just visit [this link](https://noaa-mrms-pds.s3.amazonaws.com/index.html), which takes you to the MRMS bucket."
   ]
  },
  {
   "cell_type": "code",
   "execution_count": null,
   "metadata": {},
   "outputs": [],
   "source": [
    "# Here's a hint -- you can run aws.ls to see the file structure in code. Try it yourself!\n",
    "#aws.ls(f'noaa-mrms-pds/{location}/{product}/{datestring}/', refresh=True)  "
   ]
  },
  {
   "cell_type": "markdown",
   "metadata": {},
   "source": [
    "---"
   ]
  },
  {
   "cell_type": "markdown",
   "metadata": {},
   "source": [
    "## Data selection\n",
    "\n",
    "For ease of use, I've integrated ipywidgets (drop-down menus!) that allow you to make selections from AWS, and refined a selection of data variables as a demonstration. You can choose between 12-hour accumulated rainfall (with integrated rain gauge measurements), a merged reflectivitiy composite, and a model-derived surface temperature.\n",
    "\n",
    "Now, you have the option to select a region and a radar product to visualize in near real-time. Go ahead and use the drop-down menus to select a region, a radar product, then *run the next cell*. If you run the drop-down cell again, it will reset your values. "
   ]
  },
  {
   "cell_type": "code",
   "execution_count": null,
   "metadata": {},
   "outputs": [],
   "source": [
    "# Formatting settings for drop-down menus\n",
    "style = {'description_width':'120px'}\n",
    "layout = widgets.Layout(width='325px')  \n",
    "\n",
    "# Dropdown widget to choose location from the options on AWS\n",
    "location_choice = widgets.Dropdown(options=[(\"ALASKA\"),(\"CARIB\"),(\"CONUS\"),(\"GUAM\"),(\"HAWAII\")], description='Region:', style=style, layout=layout)\n",
    "display(location_choice)\n",
    "\n",
    "# Dropdown widget to choose MRMS product from a selection of AWS products\n",
    "product_choice = widgets.Dropdown(options=[(\"LayerCompositeReflectivity_Low_00.50\"),(\"SATELLITE\"),(\"MODEL\")], description='MRMS product:', style=style, layout=layout)\n",
    "display(product_choice)"
   ]
  },
  {
   "cell_type": "markdown",
   "metadata": {},
   "source": [
    "Congratulations, you've made your data selection!\n",
    "\n",
    "If you choose to adapt this notebook to your own workflow, this section can easily be adjusted to your own use case. Simply delete the cell above, then update the cell below to reflect the region and data variable you wish to use. If you decide to use a product that is not covered in this notebook, you can search through [all available data products on AWS](https://noaa-mrms-pds.s3.amazonaws.com/index.html#CONUS/) and paste it in verbatim. It may be helpful to cross-reference these variables against the [NSSL variable table](https://www.nssl.noaa.gov/projects/mrms/operational/tables.php) and \n",
    "[Chapter 1](link_to_first_notebook.ipynb)."
   ]
  },
  {
   "cell_type": "code",
   "execution_count": null,
   "metadata": {},
   "outputs": [],
   "source": [
    "# Retrieve the user selection from 'region' \n",
    "location = location_choice.value\n",
    "\n",
    "# Retrieve the user selection from 'MRMS product'\n",
    "product = product_choice.value"
   ]
  },
  {
   "cell_type": "markdown",
   "metadata": {},
   "source": [
    "---"
   ]
  },
  {
   "cell_type": "markdown",
   "metadata": {
    "trusted": false
   },
   "source": [
    "## Data request\n",
    "Now that you've made your variable selection, it's time to read in the data from AWS. First, we retrieve the current UTC datetime so that we can request files from today's S3 bucket."
   ]
  },
  {
   "cell_type": "code",
   "execution_count": null,
   "metadata": {},
   "outputs": [],
   "source": [
    "# Retrieve the current datetime in UTC to know which bucket to query\n",
    "now = datetime.datetime.now(datetime.UTC)\n",
    "datestring = now.strftime('%Y%m%d')"
   ]
  },
  {
   "cell_type": "markdown",
   "metadata": {},
   "source": [
    "Next, we query the S3 bucket to make sure the data is available on AWS. If this section errors, reference [the S3](https://noaa-mrms-pds.s3.amazonaws.com/index.html#CONUS/) bucket to confirm that your requested region, date, and product exists and is entered correctly. "
   ]
  },
  {
   "cell_type": "code",
   "execution_count": null,
   "metadata": {},
   "outputs": [],
   "source": [
    "# Query the S3 bucket for the available files that meet the criteria\n",
    "try:\n",
    "    data_files = aws.ls(f'noaa-mrms-pds/{location}/{product}/{datestring}/', refresh=True)  \n",
    "except Exception as e:\n",
    "    print(f\"Error accessing S3 bucket: {e}\")\n",
    "    data_files = []"
   ]
  },
  {
   "cell_type": "markdown",
   "metadata": {},
   "source": [
    "Finally, we make the data request and read it in using xarray. This block of code finds the most recent file that fits your criteria, ensures that the file was created recently (within two hours), then makes the data request. Due to way the data was uploaded to S3, the file arrives as a compressed grib2 file. This code decompresses the file and reads it in using xarray, making the format more easily incorporated into our workflow. \n",
    "\n",
    "#### **am i gonna change this??** Finally, the code masks all invalid and missing values. "
   ]
  },
  {
   "cell_type": "code",
   "execution_count": null,
   "metadata": {},
   "outputs": [],
   "source": [
    "if data_files:\n",
    "    # Choose the last file from S3 for the most recent data\n",
    "    most_recent_file = data_files[-1]\n",
    "\n",
    "    # Check that the most recent file is within 2 hours of current time\n",
    "    timestamp_str = most_recent_file.split('_')[-1].replace('.grib2.gz', '')\n",
    "    dt = datetime.datetime.strptime(timestamp_str, \"%Y%m%d-%H%M%S\").replace(tzinfo=timezone.utc)\n",
    "    if abs((now - dt).total_seconds()) <= 120 * 60:\n",
    "        # Download file to memory, decompress from .gz, and read into xarray\n",
    "        try:\n",
    "            response = urllib.request.urlopen(f\"https://noaa-mrms-pds.s3.amazonaws.com/{most_recent_file[14:]}\")\n",
    "            compressed_file = response.read()\n",
    "\n",
    "            with tempfile.NamedTemporaryFile(suffix=\".grib2\") as f:\n",
    "                f.write(gzip.decompress(compressed_file))\n",
    "                f.flush()\n",
    "                data = xr.load_dataarray(f.name, engine=\"cfgrib\", decode_timedelta=True)\n",
    "        except Exception as e:\n",
    "            print(f\"Failed to process {product}: {e}\")\n",
    "        else:\n",
    "            # Mask invalid/missing values\n",
    "            vals = data.values\n",
    "            masked_vals = ma.masked_where(vals <= 0, vals)\n",
    "            data.close()"
   ]
  },
  {
   "cell_type": "markdown",
   "metadata": {},
   "source": [
    "---"
   ]
  },
  {
   "cell_type": "markdown",
   "metadata": {},
   "source": [
    "## Visualization\n",
    "Now that we have the data read into memory using xarray, it is quite simple to plot. Here, we use hvplot to make an interactive visualization that allows the user to zoom in to a region of interest and mouse over values to better understand the product's functionality over a specific region."
   ]
  },
  {
   "cell_type": "code",
   "execution_count": null,
   "metadata": {},
   "outputs": [],
   "source": [
    "# Get the NWS Reflectivity colormap and normalize range\n",
    "ref_norm, ref_cmap = ctables.registry.get_with_steps('NWSReflectivity', 5, 5)\n",
    "\n",
    "data = data.where(data > -50, np.nan)\n",
    "\n",
    "# Convert to hex colors for Bokeh (required by hvplot)\n",
    "norm = Normalize(vmin=ref_norm.vmin, vmax=ref_norm.vmax)\n",
    "hex_cmap = [ref_cmap(norm(val)) for val in range(ref_norm.vmin, ref_norm.vmax + 5, 5)]\n",
    "hex_cmap = [mcls.to_hex(c) for c in hex_cmap]\n",
    "\n",
    "# Plot using hvplot\n",
    "reflectivity_plot = data.hvplot.image(\n",
    "    x=\"longitude\", y=\"latitude\",\n",
    "    cmap=hex_cmap,\n",
    "    colorbar=True,\n",
    "    geo=True, \n",
    "    tiles=True, \n",
    "    alpha=0.7,\n",
    "    clim=(ref_norm.vmin, ref_norm.vmax),\n",
    "    title=f\"MRMS Reflectivity - {pd.to_datetime(data.time.values).strftime('%b %d, %Y at %H:%M:%S')} UTC\",\n",
    "    frame_width=700,\n",
    "    frame_height=500,\n",
    "    xlabel='Longitude',\n",
    "    ylabel='Latitude',\n",
    "    tools=['hover']\n",
    ")\n",
    "\n",
    "reflectivity_plot\n"
   ]
  },
  {
   "cell_type": "markdown",
   "metadata": {},
   "source": [
    "---"
   ]
  },
  {
   "cell_type": "markdown",
   "metadata": {},
   "source": [
    "## Parting thoughts\n",
    "Congratulations on the completion of this notebook! You have successfully selected a region and product, queried the AWS S3 bucket, and visualized MRMS data in near real-time.\n",
    "\n",
    "If you'd like to continue this analysis, here are a couple of bonus challenges:"
   ]
  },
  {
   "cell_type": "markdown",
   "metadata": {},
   "source": [
    "#### Challenge (easy): Use the drop-down widgets in this notebook to plot a different project and region from your initial run!"
   ]
  },
  {
   "cell_type": "markdown",
   "metadata": {},
   "source": [
    "#### Challenge (medium): Delete the widget cell and use populate the notebook with a hard-coded \"region\" and \"product\" variable. Find a variable that was not covered in this notebook using the [AWS S3 bucket](https://noaa-mrms-pds.s3.amazonaws.com/index.html). \n",
    "Hint: Make sure to copy the variable names from the AWS Explorer *exactly* as you see them on screen, or your bucket access step will error. \n",
    "Hint 2: The visualization step has the correct framework for a new product, but has been customized for the three examples in this notebook. Make sure to find a good color bar and reformat the name of your product to make a more beautiful plot."
   ]
  },
  {
   "cell_type": "markdown",
   "metadata": {},
   "source": [
    "#### Challenge (difficult): Turn this notebook into a Python script, then use cron to create an updated plot from MRMS data every hour. Incorporate this plot into a web page, send it to your friend, or try it just for fun!\n",
    "Hint: See the appendix for static plotting code to get you started. "
   ]
  },
  {
   "cell_type": "markdown",
   "metadata": {},
   "source": [
    "---"
   ]
  },
  {
   "cell_type": "markdown",
   "metadata": {},
   "source": [
    "## Resources and references"
   ]
  },
  {
   "cell_type": "markdown",
   "metadata": {},
   "source": [
    "1. Things\n",
    "2. Second things"
   ]
  },
  {
   "cell_type": "markdown",
   "metadata": {},
   "source": [
    "## Appendix\n",
    "If you'd prefer to plot these data as a static plot, below is some sample code to kickstart your plotting journey. "
   ]
  },
  {
   "cell_type": "code",
   "execution_count": null,
   "metadata": {},
   "outputs": [],
   "source": [
    "\"\"\"\n",
    "import matplotlib.pyplot as plt\n",
    "import cartopy.crs as ccrs\n",
    "import cartopy.feature as cfeature\n",
    "\n",
    "def plot_product(product):\n",
    "    plt.clf()\n",
    "    \n",
    "    lons = data.longitude\n",
    "    lats = data.latitude\n",
    "    values = data.values\n",
    "    date = data.time.values\n",
    "\n",
    "    minLon = lons.min() \n",
    "    maxLon = lons.max()\n",
    "    minLat = lats.min()\n",
    "    maxLat = lats.max()\n",
    "\n",
    "    fig = plt.figure(figsize=(12,6), facecolor='w', edgecolor='k')\n",
    "    ax = fig.add_axes([0, 0, 1, 1], projection=ccrs.Mercator())\n",
    "    ax.set_extent([minLon, maxLon, minLat, maxLat], crs=ccrs.Geodetic())\n",
    "    \n",
    "    # Set colors\n",
    "    if product == \"LayerCompositeReflectivity_Low_00.50\":\n",
    "        ref_norm, ref_cmap = ctables.registry.get_with_steps('NWSReflectivity', 5, 5)\n",
    "        units = \"Reflectivity (dBZ)\"\n",
    "        title = \"MRMS Merged Reflectivity\"\n",
    "    elif product == \"GaugeInflIndex_12H_Pass1_00.00\":\n",
    "        ref_norm = None\n",
    "        ref_cmap = \"plasma\"\n",
    "        units = \"RhoHV\"\n",
    "        title = \"MRMS Gauge Infiltration Index\"\n",
    "    elif product == \"Model_SurfaceTemp_00.50\":\n",
    "        ref_norm = None\n",
    "        ref_cmap = \"viridis\"\n",
    "        units = \"ZDR (dBZ)\"\n",
    "        title = \"MRMS Merged Differential Reflectivity\"\n",
    "        \n",
    "    # Add Boundaries\n",
    "    ax.add_feature(cfeature.STATES, linewidth=0.25)\n",
    "\n",
    "    # Plot Data\n",
    "    radarplot = ax.pcolormesh(lons, lats, values, transform=ccrs.PlateCarree(), cmap=ref_cmap, norm=ref_norm)\n",
    "    cbar = plt.colorbar(radarplot)\n",
    "    cbar.set_label(units)\n",
    "\n",
    "    plt.title(f\"{title}\", loc='left', fontweight='bold')\n",
    "    #plt.title('{}'.format(pd.to_datetime(date).strftime('%d %B %Y at %H:%M UTC')), loc='right')\n",
    "\n",
    "    plt.show()\n",
    "\n",
    "plot_product('LayerCompositeReflectivity_Low_00.50')\n",
    "\"\"\""
   ]
  }
 ],
 "metadata": {
  "kernelspec": {
   "display_name": "Python 3",
   "language": "python",
   "name": "python3"
  },
  "language_info": {
   "codemirror_mode": {
    "name": "ipython",
    "version": 3
   },
   "file_extension": ".py",
   "mimetype": "text/x-python",
   "name": "python",
   "nbconvert_exporter": "python",
   "pygments_lexer": "ipython3",
   "version": "3.12.9"
  },
  "nbdime-conflicts": {
   "local_diff": [
    {
     "diff": [
      {
       "diff": [
        {
         "key": 0,
         "op": "addrange",
         "valuelist": [
          "Python 3"
         ]
        },
        {
         "key": 0,
         "length": 1,
         "op": "removerange"
        }
       ],
       "key": "display_name",
       "op": "patch"
      }
     ],
     "key": "kernelspec",
     "op": "patch"
    }
   ],
   "remote_diff": [
    {
     "diff": [
      {
       "diff": [
        {
         "key": 0,
         "op": "addrange",
         "valuelist": [
          "Python3"
         ]
        },
        {
         "key": 0,
         "length": 1,
         "op": "removerange"
        }
       ],
       "key": "display_name",
       "op": "patch"
      }
     ],
     "key": "kernelspec",
     "op": "patch"
    }
   ]
  },
  "toc-autonumbering": false
 },
 "nbformat": 4,
 "nbformat_minor": 4
}
