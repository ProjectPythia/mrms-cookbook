{
 "cells": [
  {
   "cell_type": "markdown",
   "metadata": {},
   "source": [
    "# Chapter 3: July 2025 Texas Floods"
   ]
  },
  {
   "cell_type": "markdown",
   "metadata": {},
   "source": [
    "Let's start here! If you can directly link to an image relevant to your notebook, such as [canonical logos](https://github.com/numpy/numpy/blob/main/doc/source/_static/numpylogo.svg), do so here at the top of your notebook. You can do this with MyST Markdown syntax, outlined in [this MyST guide](https://mystmd.org/guide/figures), or you edit this cell to see a demonstration. **Be sure to include `alt` text for any embedded images to make your content more accessible.**\n",
    "\n",
    "```{image} ../thumbnails/thumbnail.png\n",
    ":alt: Project Pythia logo\n",
    ":width: 200px\n",
    "```"
   ]
  },
  {
   "cell_type": "markdown",
   "metadata": {},
   "source": [
    "Next, title your notebook appropriately with a top-level Markdown header, `#` (see the very first cell above). Do not use this level header anywhere else in the notebook. Our book build process will use this title in the navbar, table of contents, etc. Keep it short, keep it descriptive. \n",
    "\n",
    "Follow this with a `---` cell to visually distinguish the transition to the prerequisites section."
   ]
  },
  {
   "cell_type": "markdown",
   "metadata": {},
   "source": [
    "---"
   ]
  },
  {
   "cell_type": "markdown",
   "metadata": {},
   "source": [
    "## Overview\n",
    "\n",
    "This notebook demonstrates how to access, process, and visualize NOAA MRMS Composite Reflectivity (Low-Level) data using Python. You’ll learn how to:\n",
    " - Generate timestamps for a given time range and format them for MRMS data access.\n",
    " - Download and decompress .grib2.gz MRMS files from AWS.\n",
    " - Load the data using xarray and cfgrib.\n",
    " - Visualize reflectivity data with Cartopy.\n",
    " - Save individual reflectivity frames and prepare them for animation.\n",
    " - Create a time-lapse animation using matplotlib.animation.\n",
    "\n",
    "By the end of this notebook, you will have a working animation of radar reflectivity spanning a multi-day period, and a clear understanding of how to automate data retrieval and visualization workflows for radar datasets."
   ]
  },
  {
   "cell_type": "markdown",
   "metadata": {},
   "source": [
    "## Prerequisites\n",
    "This section was inspired by [this template](https://github.com/alan-turing-institute/the-turing-way/blob/master/book/templates/chapter-template/chapter-landing-page.md) of the wonderful [The Turing Way](https://the-turing-way.netlify.app) Jupyter Book.\n",
    "\n",
    "Following your overview, tell your reader what concepts, packages, or other background information they'll **need** before learning your material. Tie this explicitly with links to other pages here in Foundations or to relevant external resources. Remove this body text, then populate the Markdown table, denoted in this cell with `|` vertical brackets, below, and fill out the information following. In this table, lay out prerequisite concepts by explicitly linking to other Foundations material or external resources, or describe generally helpful concepts.\n",
    "\n",
    "Label the importance of each concept explicitly as **helpful/necessary**.\n",
    "\n",
    "| Concepts | Importance | Notes |\n",
    "| --- | --- | --- |\n",
    "| [Intro to Cartopy](https://foundations.projectpythia.org/core/cartopy/cartopy) | Necessary | |\n",
    "| [Understanding of NetCDF](https://foundations.projectpythia.org/core/data-formats/netcdf-cf) | Helpful | Familiarity with metadata structure |\n",
    "| Project management | Helpful | |\n",
    "\n",
    "- **Time to learn**: estimate in minutes. For a rough idea, use 5 mins per subsection, 10 if longer; add these up for a total. Safer to round up and overestimate.\n",
    "- **System requirements**:\n",
    "    - Populate with any system, version, or non-Python software requirements if necessary\n",
    "    - Otherwise use the concepts table above and the Imports section below to describe required packages as necessary\n",
    "    - If no extra requirements, remove the **System requirements** point altogether"
   ]
  },
  {
   "cell_type": "markdown",
   "metadata": {},
   "source": [
    "---"
   ]
  },
  {
   "cell_type": "markdown",
   "metadata": {},
   "source": [
    "## Imports\n",
    "Begin your body of content with another `---` divider before continuing into this section, then remove this body text and populate the following code cell with all necessary Python imports **up-front**:"
   ]
  },
  {
   "cell_type": "code",
   "execution_count": null,
   "metadata": {},
   "outputs": [],
   "source": [
    "!conda install metpy -y -c conda-forge"
   ]
  },
  {
   "cell_type": "code",
   "execution_count": null,
   "metadata": {},
   "outputs": [],
   "source": [
    "import ipywidgets as widgets\n",
    "import requests\n",
    "import s3fs\n",
    "import numpy as np\n",
    "import matplotlib.pyplot as plt\n",
    "import cartopy.crs as ccrs\n",
    "import xarray as xr\n",
    "import datetime\n",
    "import numpy.ma as ma\n",
    "from metpy.plots import ctables\n",
    "import urllib.request\n",
    "import gzip\n",
    "import tempfile\n",
    "import numpy as np\n",
    "import matplotlib.pyplot as plt\n",
    "import cartopy.crs as ccrs\n",
    "import cartopy.feature as cfeature\n",
    "from metpy.plots import ctables"
   ]
  },
  {
   "cell_type": "markdown",
   "metadata": {},
   "source": [
    "## MRMS Data"
   ]
  },
  {
   "cell_type": "code",
   "execution_count": null,
   "metadata": {},
   "outputs": [],
   "source": [
    "# Using MRMS Data to plot the low level composite reflectivity at 12Z in Central Texas"
   ]
  },
  {
   "cell_type": "markdown",
   "metadata": {},
   "source": [
    "### Reading in MRMS Data"
   ]
  },
  {
   "cell_type": "code",
   "execution_count": null,
   "metadata": {},
   "outputs": [],
   "source": [
    "response = urllib.request.urlopen(\"https://noaa-mrms-pds.s3.amazonaws.com/CONUS/LayerCompositeReflectivity_Low_00.50/20250704/MRMS_LayerCompositeReflectivity_Low_00.50_20250704-001040.grib2.gz\")\n",
    "compressed_file = response.read()\n",
    "\n",
    "with tempfile.NamedTemporaryFile(suffix=\".grib2\") as f:\n",
    "            f.write(gzip.decompress(compressed_file))\n",
    "            data_in = xr.load_dataarray(f.name, engine='cfgrib', decode_timedelta=True)"
   ]
  },
  {
   "cell_type": "markdown",
   "metadata": {},
   "source": [
    "## Plotting Reflectivity over Texas at 12Z"
   ]
  },
  {
   "cell_type": "code",
   "execution_count": null,
   "metadata": {},
   "outputs": [],
   "source": [
    "refl_norm, refl_cmap = ctables.registry.get_with_steps('NWSReflectivity', 5, 5)\n",
    "\n",
    "# 2. Extract coords & data\n",
    "lons = data_in.longitude.values\n",
    "lats = data_in.latitude.values\n",
    "refl = data_in.values\n",
    "\n",
    "# If coords are 1D, make them 2D\n",
    "if lons.ndim == 1 and lats.ndim == 1:\n",
    "    lons, lats = np.meshgrid(lons, lats)"
   ]
  },
  {
   "cell_type": "code",
   "execution_count": null,
   "metadata": {},
   "outputs": [],
   "source": [
    "# 3. Plot\n",
    "fig = plt.figure(figsize=(10, 8))\n",
    "ax = plt.axes(projection=ccrs.PlateCarree())\n",
    "# ax.set_extent([-106, -93, 25, 36], crs=ccrs.PlateCarree()) Edit - adjusting the extent to show just Texas\n",
    "ax.set_extent([-106, -93, 25.84, 36.83], crs=ccrs.PlateCarree())\n",
    "\n",
    "ax.add_feature(cfeature.COASTLINE, linewidth=1)\n",
    "ax.add_feature(cfeature.BORDERS, linewidth=1)\n",
    "ax.add_feature(cfeature.STATES, linewidth=0.5)\n",
    "\n",
    "mesh = ax.pcolormesh(\n",
    "    lons, lats, ma.masked_where(refl<5,refl),\n",
    "    cmap=refl_cmap,\n",
    "    norm=refl_norm,\n",
    "    transform=ccrs.PlateCarree()\n",
    ")\n",
    "\n",
    "cb = plt.colorbar(mesh, ax=ax, orientation='horizontal', pad=0.05, aspect=50)\n",
    "cb.set_label('Reflectivity (dBZ)')\n",
    "\n",
    "plt.title('MRMS Layer Composite Reflectivity – Texas', fontsize=14)\n",
    "plt.show()\n"
   ]
  },
  {
   "cell_type": "markdown",
   "metadata": {},
   "source": [
    "### Creating 6 frames"
   ]
  },
  {
   "cell_type": "code",
   "execution_count": null,
   "metadata": {},
   "outputs": [],
   "source": [
    "from datetime import datetime, timedelta\n",
    "import urllib.request"
   ]
  },
  {
   "cell_type": "code",
   "execution_count": null,
   "metadata": {},
   "outputs": [],
   "source": [
    "start = datetime(2025, 7, 4, 0, 10, 40)\n",
    "end = datetime(2025, 7, 7, 0, 0, 0)\n",
    "step = timedelta(minutes=30)\n",
    "\n",
    "valid_timestamps = []\n",
    "t = start\n",
    "\n",
    "print(\"Checking for available MRMS files...\\n\")\n",
    "\n",
    "while t <= end and len(valid_timestamps) < 6:\n",
    "    ts = t.strftime(\"%Y%m%d-%H%M%S\")\n",
    "    date_str = ts[:8]\n",
    "    url = (\n",
    "        f\"https://noaa-mrms-pds.s3.amazonaws.com/CONUS/LayerCompositeReflectivity_Low_00.50/\"\n",
    "        f\"{date_str}/MRMS_LayerCompositeReflectivity_Low_00.50_{ts}.grib2.gz\"\n",
    "    )\n",
    "    try:\n",
    "        resp = urllib.request.urlopen(url, timeout=5)\n",
    "        print(f\" Found: {ts}\")\n",
    "        valid_timestamps.append(ts)\n",
    "    except:\n",
    "        print(f\" Missing: {ts}\")\n",
    "    t += step\n",
    "\n",
    "print(\"\\n Selected 6 timestamps:\")\n",
    "for ts in valid_timestamps:\n",
    "    print(ts)"
   ]
  },
  {
   "cell_type": "code",
   "execution_count": null,
   "metadata": {},
   "outputs": [],
   "source": [
    "import urllib.request\n",
    "import gzip\n",
    "import tempfile\n",
    "import xarray as xr\n",
    "import numpy as np\n",
    "import numpy.ma as ma\n",
    "import matplotlib.pyplot as plt\n",
    "import cartopy.crs as ccrs\n",
    "import cartopy.feature as cfeature\n",
    "from metpy.plots import ctables\n",
    "from matplotlib.animation import ArtistAnimation\n",
    "from IPython.display import HTML"
   ]
  },
  {
   "cell_type": "code",
   "execution_count": null,
   "metadata": {},
   "outputs": [],
   "source": [
    "# Define the 6 known working timestamps (one every hour)\n",
    "timestamps = [\n",
    "    \"20250704-001040\",\n",
    "    \"20250704-011040\",\n",
    "    \"20250704-031040\",\n",
    "    \"20250704-054040\",\n",
    "    \"20250704-071040\",\n",
    "    \"20250704-091040\"\n",
    "]\n",
    "\n",
    "# Set up colormap and normalization for reflectivity\n",
    "refl_norm, refl_cmap = ctables.registry.get_with_steps('NWSReflectivity', 5, 5)\n",
    "\n",
    "# Initialize animation container\n",
    "frames_six = []\n",
    "\n",
    "# Set up static map\n",
    "fig = plt.figure(figsize=(10, 8))\n",
    "ax = plt.axes(projection=ccrs.PlateCarree())\n",
    "ax.set_extent([-106, -93, 25.84, 36.83], crs=ccrs.PlateCarree())\n",
    "ax.add_feature(cfeature.COASTLINE, linewidth=1)\n",
    "ax.add_feature(cfeature.BORDERS, linewidth=1)\n",
    "ax.add_feature(cfeature.STATES, linewidth=0.5)\n",
    "\n",
    "# Loop through timestamps and collect frames\n",
    "for ts in timestamps:\n",
    "    print(f\"Loading {ts}...\")\n",
    "    try:\n",
    "        url = (\n",
    "            f\"https://noaa-mrms-pds.s3.amazonaws.com/CONUS/LayerCompositeReflectivity_Low_00.50/\"\n",
    "            f\"{ts[:8]}/MRMS_LayerCompositeReflectivity_Low_00.50_{ts}.grib2.gz\"\n",
    "        )\n",
    "        response = urllib.request.urlopen(url)\n",
    "        compressed_file = response.read()\n",
    "\n",
    "        with tempfile.NamedTemporaryFile(suffix=\".grib2\") as f:\n",
    "            f.write(gzip.decompress(compressed_file))\n",
    "            f.flush()\n",
    "            data_in = xr.load_dataarray(f.name, engine='cfgrib', decode_timedelta=True)\n",
    "\n",
    "        # Extract coordinates and reflectivity data\n",
    "        lons = data_in.longitude.values\n",
    "        lats = data_in.latitude.values\n",
    "        refl = data_in.values\n",
    "\n",
    "        if lons.ndim == 1 and lats.ndim == 1:\n",
    "            lons, lats = np.meshgrid(lons, lats)\n",
    "\n",
    "        # Plot single frame (no show)\n",
    "        mesh = ax.pcolormesh(\n",
    "            lons, lats, ma.masked_where(refl < 5, refl),\n",
    "            cmap=refl_cmap,\n",
    "            norm=refl_norm,\n",
    "            transform=ccrs.PlateCarree()\n",
    "        )\n",
    "\n",
    "        ax.set_title(f\"MRMS Low-Level Reflectivity (dBZ) – {ts[:4]}-{ts[4:6]}-{ts[6:8]} {ts[9:11]}:{ts[11:13]} UTC\")\n",
    "\n",
    "        # Save mesh to animation frame\n",
    "        frames_six.append([mesh])\n",
    "\n",
    "    except Exception as e:\n",
    "        print(f\"Skipped {ts} → {e}\")\n",
    "        continue\n",
    "\n",
    "# Create and display animation\n",
    "anim = ArtistAnimation(fig, frames_six, interval=500, blit=True)\n",
    "HTML(anim.to_jshtml())"
   ]
  },
  {
   "cell_type": "code",
   "execution_count": null,
   "metadata": {},
   "outputs": [],
   "source": [
    "# Optional - Save locally with PillowWriter\n",
    "from matplotlib.animation import PillowWriter\n",
    "\n",
    "# Save animation as a .gif\n",
    "anim.save(\"mrms_reflectivity_animation.gif\", writer=PillowWriter(fps=2))\n",
    "\n",
    "print(\"Animation saved as 'mrms_reflectivity_animation.gif'\")\n"
   ]
  },
  {
   "cell_type": "code",
   "execution_count": null,
   "metadata": {},
   "outputs": [],
   "source": [
    "# Initialize animation container\n",
    "frames_six = []\n",
    "\n",
    "# Set up static map\n",
    "fig = plt.figure(figsize=(10, 8))\n",
    "ax = plt.axes(projection=ccrs.PlateCarree())\n",
    "ax.set_extent([-106, -93, 25.84, 36.83], crs=ccrs.PlateCarree())\n",
    "ax.add_feature(cfeature.COASTLINE, linewidth=1)\n",
    "ax.add_feature(cfeature.BORDERS, linewidth=1)\n",
    "ax.add_feature(cfeature.STATES, linewidth=0.5)\n",
    "\n",
    "# Prepare timestamp overlay\n",
    "timestamp_text = ax.text(\n",
    "    0.01, 0.98, \"\", transform=ax.transAxes,\n",
    "    ha='left', va='top', fontsize=12, color='white',\n",
    "    bbox=dict(facecolor='black', alpha=0.5, boxstyle='round')\n",
    ")\n",
    "\n",
    "# Loop through timestamps and collect frames\n",
    "for ts in timestamps:\n",
    "    print(f\"Loading {ts}...\")\n",
    "    try:\n",
    "        url = (\n",
    "            f\"https://noaa-mrms-pds.s3.amazonaws.com/CONUS/LayerCompositeReflectivity_Low_00.50/\"\n",
    "            f\"{ts[:8]}/MRMS_LayerCompositeReflectivity_Low_00.50_{ts}.grib2.gz\"\n",
    "        )\n",
    "        response = urllib.request.urlopen(url)\n",
    "        compressed_file = response.read()\n",
    "\n",
    "        with tempfile.NamedTemporaryFile(suffix=\".grib2\") as f:\n",
    "            f.write(gzip.decompress(compressed_file))\n",
    "            f.flush()\n",
    "            data_in = xr.load_dataarray(f.name, engine='cfgrib', decode_timedelta=True)\n",
    "\n",
    "        # Extract coordinates and reflectivity data\n",
    "        lons = data_in.longitude.values\n",
    "        lats = data_in.latitude.values\n",
    "        refl = data_in.values\n",
    "\n",
    "        if lons.ndim == 1 and lats.ndim == 1:\n",
    "            lons, lats = np.meshgrid(lons, lats)\n",
    "\n",
    "        # Clear previous mesh\n",
    "        for coll in ax.collections:\n",
    "            coll.remove()\n",
    "\n",
    "        # Plot reflectivity\n",
    "        mesh = ax.pcolormesh(\n",
    "            lons, lats, ma.masked_where(refl < 5, refl),\n",
    "            cmap=refl_cmap,\n",
    "            norm=refl_norm,\n",
    "            transform=ccrs.PlateCarree()\n",
    "        )\n",
    "\n",
    "        # Add timestamp overlay\n",
    "        timestamp_text.set_text(f\"{ts[:4]}-{ts[4:6]}-{ts[6:8]} {ts[9:11]}:{ts[11:13]} UTC\")\n",
    "\n",
    "        # Add colorbar once (after first successful frame)\n",
    "        # Add colorbar once (after first successful frame)\n",
    "        if len(frames_six) == 0:\n",
    "            fig.canvas.draw()  # Ensure canvas is initialized\n",
    "            cbar = plt.colorbar(mesh, ax=ax, orientation='vertical', pad=0.02, shrink=0.7)\n",
    "            cbar.set_label(\"Reflectivity (dBZ)\")\n",
    "\n",
    "        # Save frame\n",
    "        frames_six.append([mesh, timestamp_text])\n",
    "\n",
    "    except Exception as e:\n",
    "        print(f\"Skipped {ts} → {e}\")\n",
    "        continue\n",
    "\n",
    "# Create and display animation\n",
    "anim = ArtistAnimation(fig, frames_six, interval=500, blit=True)\n",
    "HTML(anim.to_jshtml())"
   ]
  },
  {
   "cell_type": "code",
   "execution_count": null,
   "metadata": {},
   "outputs": [],
   "source": [
    "# Optional - Save locally with PillowWriter\n",
    "# from matplotlib.animation import PillowWriter\n",
    "\n",
    "# # Save animation as a .gif\n",
    "# anim.save(\"mrms_reflectivity_animation.gif\", writer=PillowWriter(fps=2))\n",
    "\n",
    "# print(\"Animation saved as 'mrms_reflectivity_animation.gif'\")\n"
   ]
  },
  {
   "cell_type": "markdown",
   "metadata": {},
   "source": [
    "### Animation of the Texas flood event using MRMS"
   ]
  },
  {
   "cell_type": "code",
   "execution_count": null,
   "metadata": {},
   "outputs": [],
   "source": []
  },
  {
   "cell_type": "code",
   "execution_count": null,
   "metadata": {},
   "outputs": [],
   "source": []
  },
  {
   "cell_type": "code",
   "execution_count": null,
   "metadata": {},
   "outputs": [],
   "source": []
  },
  {
   "cell_type": "code",
   "execution_count": null,
   "metadata": {},
   "outputs": [],
   "source": []
  },
  {
   "cell_type": "markdown",
   "metadata": {},
   "source": [
    "### Another content subsection\n",
    "Keep up the good work! A note, *try to avoid using code comments as narrative*, and instead let them only exist as brief clarifications where necessary."
   ]
  },
  {
   "cell_type": "markdown",
   "metadata": {},
   "source": [
    "---"
   ]
  },
  {
   "cell_type": "markdown",
   "metadata": {},
   "source": [
    "## Summary\n",
    "Add one final `---` marking the end of your body of content, and then conclude with a brief single paragraph summarizing at a high level the key pieces that were learned and how they tied to your objectives. Look to reiterate what the most important takeaways were.\n",
    "\n",
    "### What's next?\n",
    "Let Jupyter book tie this to the next (sequential) piece of content that people could move on to down below and in the sidebar. However, if this page uniquely enables your reader to tackle other nonsequential concepts throughout this book, or even external content, link to it here!"
   ]
  },
  {
   "cell_type": "markdown",
   "metadata": {},
   "source": [
    "## Resources and references\n",
    "Finally, be rigorous in your citations and references as necessary. Give credit where credit is due. Also, feel free to link to relevant external material, further reading, documentation, etc. Then you're done! Give yourself a quick review, a high five, and send us a pull request. A few final notes:\n",
    " - `Kernel > Restart Kernel and Run All Cells...` to confirm that your notebook will cleanly run from start to finish\n",
    " - `Kernel > Restart Kernel and Clear All Outputs...` before committing your notebook, our machines will do the heavy lifting\n",
    " - Take credit! Provide author contact information if you'd like; if so, consider adding information here at the bottom of your notebook\n",
    " - Give credit! Attribute appropriate authorship for referenced code, information, images, etc.\n",
    " - Only include what you're legally allowed: **no copyright infringement or plagiarism**\n",
    " \n",
    "Thank you for your contribution!"
   ]
  }
 ],
 "metadata": {
  "kernelspec": {
   "display_name": "Python [conda env:notebook] *",
   "language": "python",
   "name": "conda-env-notebook-py"
  },
  "language_info": {
   "codemirror_mode": {
    "name": "ipython",
    "version": 3
   },
   "file_extension": ".py",
   "mimetype": "text/x-python",
   "name": "python",
   "nbconvert_exporter": "python",
   "pygments_lexer": "ipython3",
   "version": "3.12.8"
  },
  "nbdime-conflicts": {
   "local_diff": [
    {
     "diff": [
      {
       "diff": [
        {
         "key": 0,
         "op": "addrange",
         "valuelist": [
          "Python 3"
         ]
        },
        {
         "key": 0,
         "length": 1,
         "op": "removerange"
        }
       ],
       "key": "display_name",
       "op": "patch"
      }
     ],
     "key": "kernelspec",
     "op": "patch"
    }
   ],
   "remote_diff": [
    {
     "diff": [
      {
       "diff": [
        {
         "key": 0,
         "op": "addrange",
         "valuelist": [
          "Python3"
         ]
        },
        {
         "key": 0,
         "length": 1,
         "op": "removerange"
        }
       ],
       "key": "display_name",
       "op": "patch"
      }
     ],
     "key": "kernelspec",
     "op": "patch"
    }
   ]
  },
  "toc-autonumbering": false
 },
 "nbformat": 4,
 "nbformat_minor": 4
}
