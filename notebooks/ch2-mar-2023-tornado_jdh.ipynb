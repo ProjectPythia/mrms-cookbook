{
 "cells": [
  {
   "cell_type": "markdown",
   "metadata": {},
   "source": [
    "# Chapter 2: Case Study\n",
    "## March 24-27, 2023 Tornado Outbreak"
   ]
  },
  {
   "cell_type": "markdown",
   "metadata": {},
   "source": [
    "```{image} ../thumbnails/thumbnail.png\n",
    ":alt: Project Pythia logo\n",
    ":width: 200px\n",
    "```"
   ]
  },
  {
   "cell_type": "markdown",
   "metadata": {},
   "source": [
    "Next, title your notebook appropriately with a top-level Markdown header, `#` (see the very first cell above). Do not use this level header anywhere else in the notebook. Our book build process will use this title in the navbar, table of contents, etc. Keep it short, keep it descriptive. \n",
    "\n",
    "Follow this with a `---` cell to visually distinguish the transition to the prerequisites section."
   ]
  },
  {
   "cell_type": "markdown",
   "metadata": {},
   "source": [
    "---"
   ]
  },
  {
   "cell_type": "markdown",
   "metadata": {},
   "source": [
    "# Overview\n",
    "The tornado outbreak of March 24–27, 2023 was a devastating multi-day severe weather event that swept across the Southern United States, particularly impacting Mississippi, Alabama, Tennessee, and Georgia. Triggered by a slow-moving upper-level trough interacting with moist, unstable air from the Gulf of Mexico, the outbreak produced 35 confirmed tornadoes, including a violent EF4 that tore through Rolling Fork, Midnight, and Silver City, Mississippi with peak winds of 195 mph. This EF4 tornado alone caused catastrophic damage and multiple fatalities and brought tornado emergencies ahead of widespread destruction.<br>\n",
    "Over the four-day span, the system also unleashed damaging straight-line winds, large hail, and flooding. In total, the outbreak resulted in 23 fatalities (plus two from non-tornadic causes), over 230 injuries, and an estimated $1.9 billion in damage. The event was notable not only for its intensity but also for its geographic breadth and the prolonged nature of the severe weather threat.\n",
    "\n",
    "---\n",
    "\n",
    "This chapter explores MRMS data from this tornado outbreak, specifically from the Rolling Fork–Silver City, MS tornado on March 24, 2023. The chapter investigates:  \n",
    " - Reflectivity  \n",
    " - Precipitation Rates  \n",
    " - Rotation  \n",
    " - Hail Swaths - *Under Construction!* \n",
    " - Storm Intensity (Vertically integrated liquid) - *Under Construction!*\n",
    "\n",
    "To support this analysis, the chapter introduces a practical method for accessing MRMS data directly from an AWS server. It guides readers through defining a map and customizing its spatial extent to filter and process data relevant to the event. By showcasing multiple variations of each MRMS variable, the chapter highlights the accessibility and versatility of these datasets for visualizing high-impact weather events. A focused case study on the Rolling Fork tornado illustrates how several hours of MRMS data can be leveraged to gain insight into storm properties of a significant weather event."
   ]
  },
  {
   "cell_type": "markdown",
   "metadata": {},
   "source": [
    "--- "
   ]
  },
  {
   "cell_type": "markdown",
   "metadata": {},
   "source": [
    "## Imports\n",
    "This section brings in packages for handling AWS requests, manipulating MRMS files, and rendering plots on a map."
   ]
  },
  {
   "cell_type": "code",
   "execution_count": null,
   "metadata": {},
   "outputs": [],
   "source": [
    "import sys\n",
    "import s3fs\n",
    "import urllib\n",
    "import tempfile\n",
    "import gzip\n",
    "import xarray as xr\n",
    "import xarray\n",
    "import io\n",
    "import numpy as np\n",
    "import cartopy\n",
    "import datetime\n",
    "import pandas as pd\n",
    "import matplotlib.pyplot as plt\n",
    "import cartopy.crs as ccrs\n",
    "import cartopy.feature as cfeature\n",
    "\n",
    "aws = s3fs.S3FileSystem(anon=True)"
   ]
  },
  {
   "cell_type": "markdown",
   "metadata": {},
   "source": [
    "--- "
   ]
  },
  {
   "cell_type": "markdown",
   "metadata": {},
   "source": [
    "## Build Map\n",
    "This section uses Cartopy to build a blank map then define our extent for our case study."
   ]
  },
  {
   "cell_type": "code",
   "execution_count": null,
   "metadata": {},
   "outputs": [],
   "source": [
    "# Set up the map projection\n",
    "projection = ccrs.LambertConformal(central_longitude=-96, central_latitude=39)\n",
    "\n",
    "# Create the figure and axes\n",
    "fig, ax = plt.subplots(figsize=(12, 8), subplot_kw={'projection': projection})\n",
    "\n",
    "# Set extent for CONUS (approximate)\n",
    "ax.set_extent([-125, -66.5, 24, 50], crs=ccrs.PlateCarree())\n",
    "\n",
    "# Add geographic features\n",
    "ax.add_feature(cfeature.STATES.with_scale('50m'), edgecolor='gray')\n",
    "ax.add_feature(cfeature.BORDERS.with_scale('50m'), linestyle='--', edgecolor='black')\n",
    "ax.add_feature(cfeature.COASTLINE.with_scale('50m'))\n",
    "\n",
    "# Optional: remove ticks\n",
    "ax.set_xticks([])\n",
    "ax.set_yticks([])\n",
    "\n",
    "# Add title\n",
    "plt.title(\"Blank Map\", fontsize=18)\n",
    "\n",
    "plt.show()"
   ]
  },
  {
   "cell_type": "markdown",
   "metadata": {},
   "source": [
    "#### We will be looking specifically at the tornado outbreak that occurred in Dixie Alley, so let's set our extents specifically to Dixie Alley. "
   ]
  },
  {
   "cell_type": "code",
   "execution_count": null,
   "metadata": {},
   "outputs": [],
   "source": [
    "lon_min, lon_max = -96, -80\n",
    "lat_min, lat_max = 29, 38\n",
    "\n",
    "# Set up the map projection\n",
    "projection = ccrs.LambertConformal(central_longitude=-88, central_latitude=34)\n",
    "\n",
    "# Create the figure and axes\n",
    "fig, ax = plt.subplots(figsize=(12, 8), subplot_kw={'projection': projection})\n",
    "\n",
    "# Set extent for CONUS (approximate)\n",
    "ax.set_extent([lon_min, lon_max, lat_min, lat_max], crs=ccrs.PlateCarree())\n",
    "\n",
    "# Add geographic features\n",
    "ax.add_feature(cfeature.STATES.with_scale('50m'), edgecolor='gray')\n",
    "ax.add_feature(cfeature.BORDERS.with_scale('50m'), linestyle='--', edgecolor='black')\n",
    "ax.add_feature(cfeature.COASTLINE.with_scale('50m'))\n",
    "\n",
    "# Optional: remove ticks\n",
    "ax.set_xticks([])\n",
    "ax.set_yticks([])\n",
    "\n",
    "# Add title\n",
    "plt.title(\"Blank Dixie Alley Map\", fontsize=18)\n",
    "\n",
    "plt.show()"
   ]
  },
  {
   "cell_type": "markdown",
   "metadata": {},
   "source": [
    "---"
   ]
  },
  {
   "cell_type": "markdown",
   "metadata": {},
   "source": [
    "## Fetch Data\n",
    "#### This section uses s3 to pull in the data from the AWS s3 server. Following data acquisition, the module uses xarray to filter the resulting DataArray for the size of the desired map.\n",
    "##### For variable names, see link *[here](https://noaa-mrms-pds.s3.amazonaws.com/index.html#CONUS/)*."
   ]
  },
  {
   "cell_type": "code",
   "execution_count": null,
   "metadata": {},
   "outputs": [],
   "source": [
    "# def fetch_mrms_data(variable: str, yyyymmdd: str, hh: str) -> xr.DataArray:\n",
    "#     \"\"\"\n",
    "#     Downloads and loads MRMS data from NOAA PDS.\n",
    "\n",
    "#     Parameters:\n",
    "#         variable (str): MRMS product name (e.g., 'MergedReflectivityQC').\n",
    "#         yyyymmdd (str): Date in YYYYMMDD format.\n",
    "#         hh (str): Hour in HH format (00–23 UTC).\n",
    "\n",
    "#     Returns:\n",
    "#         xarray.DataArray: Decoded MRMS data array.\n",
    "#     \"\"\"\n",
    "#     url = (\n",
    "#         f\"https://noaa-mrms-pds.s3.amazonaws.com/CONUS/{variable}/\"\n",
    "#         f\"{yyyymmdd}/MRMS_{variable}_{yyyymmdd}-{hh}0000.grib2.gz\"\n",
    "#     )\n",
    "\n",
    "#     response = urllib.request.urlopen(url)\n",
    "#     compressed_file = response.read()\n",
    "\n",
    "#     with tempfile.NamedTemporaryFile(suffix=\".grib2\") as f:\n",
    "#         f.write(gzip.decompress(compressed_file))\n",
    "#         data_in = xr.load_dataarray(f.name, engine='cfgrib', decode_timedelta=True)\n",
    "\n",
    "#     return data_in"
   ]
  },
  {
   "cell_type": "code",
   "execution_count": null,
   "metadata": {},
   "outputs": [],
   "source": [
    "# def fetch_mrms_data(\n",
    "#     variable: str,\n",
    "#     yyyymmdd: str,\n",
    "#     hh: str,\n",
    "#     lon_min: float = None,\n",
    "#     lat_min: float = None,\n",
    "#     lon_max: float = None,\n",
    "#     lat_max: float = None\n",
    "# ) -> xr.DataArray:\n",
    "#     \"\"\"\n",
    "#     Downloads and loads MRMS data from NOAA PDS, with optional spatial filtering.\n",
    "\n",
    "#     Parameters:\n",
    "#         variable (str): MRMS product name (e.g., 'MergedReflectivityQC').\n",
    "#         yyyymmdd (str): Date in YYYYMMDD format.\n",
    "#         hh (str): Hour in HH format (00–23 UTC).\n",
    "#         lon_min, lat_min, lon_max, lat_max (float, optional): Bounding box for spatial subset. \n",
    "\n",
    "#     Returns:\n",
    "#         xarray.DataArray: Decoded MRMS data array, optionally subset by lat/lon.\n",
    "\n",
    "#     Example use: \n",
    "#         data = fetch_mrms_data('MergedReflectivityQC', '20230325', '02', lon_min=-96, lat_min=29, lon_max=-80, lat_max=38)\n",
    "#     \"\"\"\n",
    "#     url = (\n",
    "#         f\"https://noaa-mrms-pds.s3.amazonaws.com/CONUS/{variable}/\"\n",
    "#         f\"{yyyymmdd}/MRMS_{variable}_{yyyymmdd}-{hh}0000.grib2.gz\"\n",
    "#     )\n",
    "\n",
    "#     response = urllib.request.urlopen(url)\n",
    "#     compressed_file = response.read()\n",
    "\n",
    "#     with tempfile.NamedTemporaryFile(suffix=\".grib2\") as f:\n",
    "#         f.write(gzip.decompress(compressed_file))\n",
    "#         data_in = xr.load_dataarray(f.name, engine='cfgrib', decode_timedelta=True)\n",
    "\n",
    "#     # Optional spatial filtering\n",
    "#     if all(v is not None for v in [lon_min, lat_min, lon_max, lat_max]):\n",
    "#         data_in = data_in.sel(\n",
    "#             latitude=slice(lat_max, lat_min),  # descending order\n",
    "#             longitude=slice(360 - abs(lon_min), 360 - abs(lon_max))        \n",
    "#         )\n",
    "\n",
    "#     return data_in"
   ]
  },
  {
   "cell_type": "code",
   "execution_count": null,
   "metadata": {},
   "outputs": [],
   "source": [
    "def find_available_files(\n",
    "    variable: str,\n",
    "    yyyymmdd: str,\n",
    "    hh: str\n",
    "):\n",
    "    \n",
    "    files_list = []\n",
    "\n",
    "    available_files = aws.ls(f'noaa-mrms-pds/CONUS/{variable}/{yyyymmdd}/', refresh=True)\n",
    "    for file in available_files:\n",
    "        file_hour = file[-15:-13]\n",
    "        if file_hour == hh:\n",
    "            files_list.append(file)\n",
    "\n",
    "    if len(files_list) == 0:\n",
    "        raise ValueError(f\"No files found for {variable} on {yyyymmdd} at hour {hh}.\")\n",
    "    else:    \n",
    "        return files_list\n",
    "\n",
    "def fetch_mrms_data(    \n",
    "    file: str,\n",
    "    lon_min: float = None,\n",
    "    lat_min: float = None,\n",
    "    lon_max: float = None,\n",
    "    lat_max: float = None\n",
    "):\n",
    "    url = (f\"https://noaa-mrms-pds.s3.amazonaws.com/{file[14:]}\")\n",
    "    response = urllib.request.urlopen(url)\n",
    "    compressed_file = response.read()        \n",
    "    with tempfile.NamedTemporaryFile(suffix=\".grib2\") as f:\n",
    "        f.write(gzip.decompress(compressed_file))\n",
    "        data_in = xr.load_dataarray(f.name, engine='cfgrib', decode_timedelta=True)\n",
    "\n",
    "    # Optional spatial filtering\n",
    "    if all(v is not None for v in [lon_min, lat_min, lon_max, lat_max]):\n",
    "        data_in = data_in.sel(\n",
    "            latitude=slice(lat_max, lat_min),  # descending order\n",
    "            longitude=slice(360 - abs(lon_min), 360 - abs(lon_max))        \n",
    "        )\n",
    "\n",
    "    return data_in"
   ]
  },
  {
   "cell_type": "code",
   "execution_count": null,
   "metadata": {},
   "outputs": [],
   "source": [
    "# response = urllib.request.urlopen(\"https://noaa-mrms-pds.s3.amazonaws.com/CONUS/CREF_1HR_MAX_00.50/20230325/MRMS_CREF_1HR_MAX_00.50_20230325-010000.grib2.gz\")\n",
    "\n",
    "# compressed_file = response.read()\n",
    "\n",
    "# with tempfile.NamedTemporaryFile(suffix=\".grib2\") as f:\n",
    "#             f.write(gzip.decompress(compressed_file))\n",
    "#             data_in = xr.load_dataarray(f.name, engine='cfgrib', decode_timedelta=True)"
   ]
  },
  {
   "cell_type": "markdown",
   "metadata": {},
   "source": [
    "---"
   ]
  },
  {
   "cell_type": "markdown",
   "metadata": {},
   "source": [
    "# Case Study - March 24, 2023\n",
    "### Rolling Fork - Silver City, MS Tornado\n",
    "### 3/25/23 1z to 2z"
   ]
  },
  {
   "cell_type": "code",
   "execution_count": null,
   "metadata": {},
   "outputs": [],
   "source": [
    "# Lon mins and maxes for our projections:\n",
    "lon_min, lon_max = -96, -80\n",
    "lat_min, lat_max = 29, 38"
   ]
  },
  {
   "cell_type": "markdown",
   "metadata": {},
   "source": [
    "##  Maximum 1-Hour Composite Reflectivity\n",
    "##### The MRMS Max 1-Hour Composite Reflectivity product represents the highest reflectivity value observed within the past hour across all radar scans, providing a time-integrated view of storm intensity. It helps forecasters identify areas of persistent or intense convection, especially useful for tracking severe weather like hail or heavy rainfall. This product is derived from a seamless mosaic of multiple radars, quality-controlled to remove non-meteorological artifacts.\n",
    "---"
   ]
  },
  {
   "cell_type": "code",
   "execution_count": null,
   "metadata": {},
   "outputs": [],
   "source": [
    "#### March 24, 2023 - Rolling Fork - Silver City, MS Tornado -- EF4, 71 minutes long, est winds 195 mph\n",
    "## 3/25/23 1z to 2z, so we'll grab two hours of data shortly"
   ]
  },
  {
   "cell_type": "code",
   "execution_count": null,
   "metadata": {},
   "outputs": [],
   "source": [
    "#Grab 2 hours of data for plotting\n",
    "cref1files = find_available_files('CREF_1HR_MAX_00.50', '20230325', '01')\n",
    "cref1z = fetch_mrms_data(cref1files[0])    \n",
    "\n",
    "cref2files = find_available_files('CREF_1HR_MAX_00.50', '20230325', '02')\n",
    "cref2z = fetch_mrms_data(cref2files[0])\n",
    "\n",
    "# Mask fill values for both datasets\n",
    "masked1 = np.ma.masked_where(cref1z == -99.0, cref1z)\n",
    "masked2 = np.ma.masked_where(cref2z == -99.0, cref2z)"
   ]
  },
  {
   "cell_type": "code",
   "execution_count": null,
   "metadata": {},
   "outputs": [],
   "source": [
    "# Define bounds for Dixie Alley\n",
    "projection = ccrs.LambertConformal(central_longitude=-88, central_latitude=34)\n",
    "\n",
    "# Create side-by-side subplots\n",
    "fig, axes = plt.subplots(\n",
    "    1, 2, figsize=(16, 8),\n",
    "    subplot_kw={'projection': projection},\n",
    "    gridspec_kw={'bottom': 0.2}  # leave room for shared colorbar\n",
    ")\n",
    "\n",
    "meshes = []\n",
    "for ax, masked, title in zip(axes, [masked1, masked2], [\"(a) 3/25/2023 @ 01z\", \"(b) 3/25/2023 @ 02z\"]):\n",
    "    ax.set_extent([lon_min, lon_max, lat_min, lat_max], crs=ccrs.PlateCarree())\n",
    "    ax.add_feature(cfeature.STATES.with_scale('50m'), edgecolor='gray')\n",
    "    ax.add_feature(cfeature.BORDERS.with_scale('50m'), linestyle='--', edgecolor='black')\n",
    "    ax.add_feature(cfeature.COASTLINE.with_scale('50m'))\n",
    "    \n",
    "    mesh = ax.pcolormesh(\n",
    "        cref2z.longitude, cref2z.latitude, masked,\n",
    "        cmap='turbo', transform=ccrs.PlateCarree(), shading='auto'\n",
    "    )\n",
    "    ax.set_title(title, fontsize=15)\n",
    "    meshes.append(mesh)\n",
    "\n",
    "# Add shared colorbar beneath both plots\n",
    "cbar_ax = fig.add_axes([0.25, 0.25, 0.5, 0.02])  # [left, bottom, width, height]\n",
    "cbar = fig.colorbar(meshes[0], cax=cbar_ax, orientation='horizontal')\n",
    "cbar.set_label('Reflectivity (dBZ)')\n",
    "plt.suptitle('Max 1HR Composite Reflectivity:', fontsize='20', x=0.5, y=0.85, horizontalalignment='center', verticalalignment='top')\n",
    "\n",
    "plt.show()"
   ]
  },
  {
   "cell_type": "markdown",
   "metadata": {},
   "source": [
    "---"
   ]
  },
  {
   "cell_type": "markdown",
   "metadata": {},
   "source": [
    "## Surface Precip Rate\n",
    "To describe Surface Precip Rate, there are three variables that can be used:\n",
    "\n",
    "#### Surface Precipitation Rate Products\n",
    "\n",
    "| Variable Name             | Description                                                                 | Temporal Resolution       | Filename Pattern                     |\n",
    "|--------------------------|------------------------------------------------------------------------------|---------------------------|--------------------------------------|\n",
    "| Instantaneous PrecipRate | - Estimates current rainfall intensity<br>- Derived from dual-pol radar     | - Every 2 minutes           | `PrecipRate_00.00`                   |\n",
    "| MultiSensor QPE (Pass 1 & Pass 2) | - Combines radar and precip gauge data<br>- Available in 1-pass and 2-pass versions<br>- Used for hourly accumulation | - Hourly (Pass 1 and Pass 2) | `MRMS_QPE_01H_Pass1_00.00`           |\n",
    "| RadarOnly QPE | - Estimates surface rainfall rate using dual-polarization radar reflectivity.<br>- Captures rapid changes in precipitation intensity at high temporal resolution. | - Every 2 minutes <br>- Available in 15 minute as well as (1, 3, 6, 12, 24, 48) hour intervals<br>- QPE since 12z also available | `RadarOnly_QPE_01H_00.00` |\n",
    "--- "
   ]
  },
  {
   "cell_type": "markdown",
   "metadata": {},
   "source": [
    "### Instantaneous Precip Rate"
   ]
  },
  {
   "cell_type": "code",
   "execution_count": null,
   "metadata": {},
   "outputs": [],
   "source": [
    "precip1files= find_available_files('PrecipRate_00.00', '20230325', '01') # Precip Rate\n",
    "precip_1z = fetch_mrms_data(precip1files[0]) \n",
    "precip2files = find_available_files('PrecipRate_00.00', '20230325', '02')\n",
    "precip_2z = fetch_mrms_data(precip2files[0])\n",
    "masked1 = np.ma.masked_where(precip_1z <= 0, precip_1z)\n",
    "masked2 = np.ma.masked_where(precip_2z <= 0, precip_2z)"
   ]
  },
  {
   "cell_type": "code",
   "execution_count": null,
   "metadata": {},
   "outputs": [],
   "source": [
    "# Define bounds for Dixie Alley\n",
    "projection = ccrs.LambertConformal(central_longitude=-88, central_latitude=34)\n",
    "\n",
    "# Create side-by-side subplots\n",
    "fig, axes = plt.subplots(\n",
    "    1, 2, figsize=(16, 8),\n",
    "    subplot_kw={'projection': projection},\n",
    "    gridspec_kw={'bottom': 0.2}  # leave room for shared colorbar\n",
    ")\n",
    "\n",
    "meshes = []\n",
    "for ax, masked, title in zip(axes, [masked1, masked2], [\"(a) 3/25/2023 @ 01z\", \"(b) 3/25/2023 @ 02z\"]):\n",
    "    ax.set_extent([lon_min, lon_max, lat_min, lat_max], crs=ccrs.PlateCarree())\n",
    "    ax.add_feature(cfeature.STATES.with_scale('50m'), edgecolor='gray')\n",
    "    ax.add_feature(cfeature.BORDERS.with_scale('50m'), linestyle='--', edgecolor='black')\n",
    "    ax.add_feature(cfeature.COASTLINE.with_scale('50m'))\n",
    "    \n",
    "    mesh = ax.pcolormesh(\n",
    "        precip_1z.longitude, precip_2z.latitude, masked,\n",
    "        cmap='turbo', transform=ccrs.PlateCarree(), shading='auto'\n",
    "    )\n",
    "    ax.set_title(title, fontsize=15)\n",
    "    meshes.append(mesh)\n",
    "\n",
    "# Add shared colorbar beneath both plots\n",
    "cbar_ax = fig.add_axes([0.25, 0.25, 0.5, 0.02])  # [left, bottom, width, height]\n",
    "cbar = fig.colorbar(meshes[0], cax=cbar_ax, orientation='horizontal')\n",
    "cbar.set_label('Precipitation (mm)')\n",
    "plt.suptitle('Instantaneous Precipitation', fontsize='20', x=0.5, y=0.85, horizontalalignment='center', verticalalignment='top')\n",
    "\n",
    "plt.show()"
   ]
  },
  {
   "cell_type": "markdown",
   "metadata": {},
   "source": [
    "### MultiSensorQPE - 1 Hour - Pass 1"
   ]
  },
  {
   "cell_type": "code",
   "execution_count": null,
   "metadata": {},
   "outputs": [],
   "source": [
    "# MultiSensor_QPE_01H_Pass1_00.00\n",
    "QPE1files = find_available_files('MultiSensor_QPE_01H_Pass1_00.00', '20230325', '01') # QPE: Quantified Precip Estimation - Offered hourly.\n",
    "QPE_1z = fetch_mrms_data(QPE1files[0]) \n",
    "QPE2files = find_available_files('MultiSensor_QPE_01H_Pass1_00.00', '20230325', '02')\n",
    "QPE_2z = fetch_mrms_data(QPE2files[0])\n",
    "masked1 = np.ma.masked_where(QPE_1z <= 0, QPE_1z)\n",
    "masked2 = np.ma.masked_where(QPE_2z <= 0, QPE_2z)"
   ]
  },
  {
   "cell_type": "code",
   "execution_count": null,
   "metadata": {},
   "outputs": [],
   "source": [
    "# Define bounds for Dixie Alley\n",
    "projection = ccrs.LambertConformal(central_longitude=-88, central_latitude=34)\n",
    "\n",
    "# Create side-by-side subplots\n",
    "fig, axes = plt.subplots(\n",
    "    1, 2, figsize=(16, 8),\n",
    "    subplot_kw={'projection': projection},\n",
    "    gridspec_kw={'bottom': 0.2}  # leave room for shared colorbar\n",
    ")\n",
    "\n",
    "meshes = []\n",
    "for ax, masked, title in zip(axes, [masked1, masked2], [\"(a) 3/25/2023 @ 01z\", \"(b) 3/25/2023 @ 02z\"]):\n",
    "    ax.set_extent([lon_min, lon_max, lat_min, lat_max], crs=ccrs.PlateCarree())\n",
    "    ax.add_feature(cfeature.STATES.with_scale('50m'), edgecolor='gray')\n",
    "    ax.add_feature(cfeature.BORDERS.with_scale('50m'), linestyle='--', edgecolor='black')\n",
    "    ax.add_feature(cfeature.COASTLINE.with_scale('50m'))\n",
    "    \n",
    "    mesh = ax.pcolormesh(\n",
    "        QPE_1z.longitude, QPE_2z.latitude, masked,\n",
    "        cmap='turbo', transform=ccrs.PlateCarree(), shading='auto'\n",
    "    )\n",
    "    ax.set_title(title, fontsize=15)\n",
    "    meshes.append(mesh)\n",
    "\n",
    "# Add shared colorbar beneath both plots\n",
    "cbar_ax = fig.add_axes([0.25, 0.25, 0.5, 0.02])  # [left, bottom, width, height]\n",
    "cbar = fig.colorbar(meshes[0], cax=cbar_ax, orientation='horizontal')\n",
    "cbar.set_label('Precipitation (mm)')\n",
    "plt.suptitle('Multi-Sensor Quantified Precipitation Estimate (Pass 1):', fontsize='20', x=0.5, y=0.85, horizontalalignment='center', verticalalignment='top')\n",
    "\n",
    "plt.show()"
   ]
  },
  {
   "cell_type": "markdown",
   "metadata": {},
   "source": [
    "### MultiSensorQPE - 1 Hour - Pass 2"
   ]
  },
  {
   "cell_type": "code",
   "execution_count": null,
   "metadata": {},
   "outputs": [],
   "source": [
    "# MultiSensor_QPE_01H_Pass2_00.00\n",
    "QPE1zp2files = find_available_files('MultiSensor_QPE_01H_Pass2_00.00', '20230325', '01') # QPE: Quantified Precip Estimation - last hour, 2nd pass\n",
    "QPE_1z_p2 = fetch_mrms_data(QPE1zp2files[0]) \n",
    "QPE2files = find_available_files('MultiSensor_QPE_01H_Pass2_00.00', '20230325', '02')\n",
    "QPE_2z_p2 = fetch_mrms_data(QPE2files[0])\n",
    "masked1 = np.ma.masked_where(QPE_1z_p2 <= 0, QPE_1z_p2)\n",
    "masked2 = np.ma.masked_where(QPE_2z_p2 <= 0, QPE_2z_p2)"
   ]
  },
  {
   "cell_type": "code",
   "execution_count": null,
   "metadata": {},
   "outputs": [],
   "source": [
    "# Define bounds for Dixie Alley\n",
    "projection = ccrs.LambertConformal(central_longitude=-88, central_latitude=34)\n",
    "\n",
    "# Create side-by-side subplots\n",
    "fig, axes = plt.subplots(\n",
    "    1, 2, figsize=(16, 8),\n",
    "    subplot_kw={'projection': projection},\n",
    "    gridspec_kw={'bottom': 0.2}  # leave room for shared colorbar\n",
    ")\n",
    "\n",
    "meshes = []\n",
    "for ax, masked, title in zip(axes, [masked1, masked2], [\"(a) 3/25/2023 @ 01z\", \"(b) 3/25/2023 @ 02z\"]):\n",
    "    ax.set_extent([lon_min, lon_max, lat_min, lat_max], crs=ccrs.PlateCarree())\n",
    "    ax.add_feature(cfeature.STATES.with_scale('50m'), edgecolor='gray')\n",
    "    ax.add_feature(cfeature.BORDERS.with_scale('50m'), linestyle='--', edgecolor='black')\n",
    "    ax.add_feature(cfeature.COASTLINE.with_scale('50m'))\n",
    "    \n",
    "    mesh = ax.pcolormesh(\n",
    "        QPE_1z_p2.longitude, QPE_2z_p2.latitude, masked,\n",
    "        cmap='turbo', transform=ccrs.PlateCarree(), shading='auto'\n",
    "    )\n",
    "    ax.set_title(title, fontsize=15)\n",
    "    meshes.append(mesh)\n",
    "\n",
    "# Add shared colorbar beneath both plots\n",
    "cbar_ax = fig.add_axes([0.25, 0.25, 0.5, 0.02])  # [left, bottom, width, height]\n",
    "cbar = fig.colorbar(meshes[0], cax=cbar_ax, orientation='horizontal')\n",
    "cbar.set_label('Precipitation (mm)')\n",
    "plt.suptitle('Multi-Sensor Quantified Precipitation Estimate (Pass 2):', fontsize='20', x=0.5, y=0.85, horizontalalignment='center', verticalalignment='top')\n",
    "\n",
    "plt.show()"
   ]
  },
  {
   "cell_type": "markdown",
   "metadata": {},
   "source": [
    "### Radar Only QPE - Last Hour"
   ]
  },
  {
   "cell_type": "code",
   "execution_count": null,
   "metadata": {},
   "outputs": [],
   "source": [
    "RQPE1files = find_available_files('RadarOnly_QPE_01H_00.00', '20230325', '01') # RadarOnly_QPE: Radar Only Quantified Precip Estimation - last hour\n",
    "RQPE_1z = fetch_mrms_data(RQPE1files[0])\n",
    "RQPE2files = find_available_files('RadarOnly_QPE_01H_00.00', '20230325', '02')\n",
    "RQPE_2z = fetch_mrms_data(RQPE2files[0])\n",
    "masked1 = np.ma.masked_where(RQPE_1z <= 0, RQPE_1z)\n",
    "masked2 = np.ma.masked_where(RQPE_2z <= 0, RQPE_2z)"
   ]
  },
  {
   "cell_type": "code",
   "execution_count": null,
   "metadata": {},
   "outputs": [],
   "source": [
    "# Define bounds for Dixie Alley\n",
    "projection = ccrs.LambertConformal(central_longitude=-88, central_latitude=34)\n",
    "\n",
    "# Create side-by-side subplots\n",
    "fig, axes = plt.subplots(\n",
    "    1, 2, figsize=(16, 8),\n",
    "    subplot_kw={'projection': projection},\n",
    "    gridspec_kw={'bottom': 0.2}  # leave room for shared colorbar\n",
    ")\n",
    "\n",
    "meshes = []\n",
    "for ax, masked, title in zip(axes, [masked1, masked2], [\"(a) 3/25/2023 @ 01z\", \"(b) 3/25/2023 @ 02z\"]):\n",
    "    ax.set_extent([lon_min, lon_max, lat_min, lat_max], crs=ccrs.PlateCarree())\n",
    "    ax.add_feature(cfeature.STATES.with_scale('50m'), edgecolor='gray')\n",
    "    ax.add_feature(cfeature.BORDERS.with_scale('50m'), linestyle='--', edgecolor='black')\n",
    "    ax.add_feature(cfeature.COASTLINE.with_scale('50m'))\n",
    "    \n",
    "    mesh = ax.pcolormesh(\n",
    "        RQPE_1z.longitude, RQPE_2z.latitude, masked,\n",
    "        cmap='turbo', transform=ccrs.PlateCarree(), shading='auto'\n",
    "    )\n",
    "    ax.set_title(title, fontsize=15)\n",
    "    meshes.append(mesh)\n",
    "\n",
    "# Add shared colorbar beneath both plots\n",
    "cbar_ax = fig.add_axes([0.25, 0.25, 0.5, 0.02])  # [left, bottom, width, height]\n",
    "cbar = fig.colorbar(meshes[0], cax=cbar_ax, orientation='horizontal')\n",
    "cbar.set_label('Precipitation (mm)')\n",
    "plt.suptitle('Radar Only Quantified Precipitation Estimate:', fontsize='20', x=0.5, y=0.85, horizontalalignment='center', verticalalignment='top')\n",
    "\n",
    "plt.show()"
   ]
  },
  {
   "cell_type": "markdown",
   "metadata": {},
   "source": [
    "---"
   ]
  },
  {
   "cell_type": "markdown",
   "metadata": {},
   "source": [
    "## Rotation\n",
    "#### These rotation products can be combined to assess both the intensity and persistence of storm-scale rotation across multiple atmospheric layers and time scales. By layering instantaneous azimuthal shear with rotation tracks—especially ML-enhanced versions—forecasters and researchers can better identify evolving mesocyclones, discriminate between transient and sustained rotation, and refine environmental risk assessments for severe weather.\n",
    "\n",
    "| Variable                         | Description                                                                 | Temporal Resolution | Filename Pattern                          |\n",
    "|----------------------------------|-----------------------------------------------------------------------------|----------------------|-------------------------------------------|\n",
    "| Merged AzShear (0-2km AGL)     | Low-level azimuthal shear (0–2 km AGL); highlights near-surface rotation.  | Instantaneous        | MergedAzShear_0-2kmAGL_00.50              |\n",
    "| Merged AzShear (3-6km AGL)     | Mid-level azimuthal shear (3–6 km AGL); captures elevated storm rotation.  | Instantaneous        | MergedAzShear_3-6kmAGL_00.50              |\n",
    "| Rotation Track (30-min)         | 30-min accumulation of low-level rotation; useful for short-term tracking. | 30 minutes           | RotationTrack30min_00.50                  |\n",
    "| Rotation Track (60-min)         | 60-min accumulation of low-level rotation; highlights sustained activity.  | 60 minutes           | RotationTrack60min_00.50                  |\n",
    "| Rotation Track ML (30-min)       | ML-enhanced 30-min rotation track; filters noise, boosts confidence.       | 30 minutes           | RotationTrackML30min_00.50                |\n",
    "| Rotation Track ML (60-min)       | ML-enhanced 60-min rotation track; detects short-lived intense rotation.   | 60 minutes           | RotationTrackML60min_00.50                |\n",
    " ---"
   ]
  },
  {
   "cell_type": "markdown",
   "metadata": {},
   "source": [
    "### Merged AzShear (0-2km AGL)"
   ]
  },
  {
   "cell_type": "code",
   "execution_count": null,
   "metadata": {},
   "outputs": [],
   "source": [
    "# MergedAzShear_0-2kmAGL_00.50\n",
    "Azshrfiles1_2km = find_available_files('MergedAzShear_0-2kmAGL_00.50', '20230325', '01') # Merged AzShr (0-2km AGL)\n",
    "Azshr_1z = fetch_mrms_data(Azshrfiles1_2km[0])\n",
    "Azshrfiles2_2km = find_available_files('MergedAzShear_0-2kmAGL_00.50', '20230325', '02')\n",
    "Azshr_2z = fetch_mrms_data(Azshrfiles2_2km[0])\n",
    "masked1 = np.ma.masked_where(Azshr_1z <= 0, Azshr_1z)\n",
    "masked2 = np.ma.masked_where(Azshr_2z <= 0, Azshr_2z)"
   ]
  },
  {
   "cell_type": "code",
   "execution_count": null,
   "metadata": {},
   "outputs": [],
   "source": [
    "# Define bounds for Dixie Alley\n",
    "projection = ccrs.LambertConformal(central_longitude=-88, central_latitude=34)\n",
    "\n",
    "# Create side-by-side subplots\n",
    "fig, axes = plt.subplots(\n",
    "    1, 2, figsize=(16, 8),\n",
    "    subplot_kw={'projection': projection},\n",
    "    gridspec_kw={'bottom': 0.2}  # leave room for shared colorbar\n",
    ")\n",
    "\n",
    "meshes = []\n",
    "for ax, masked, title in zip(axes, [masked1, masked2], [\"(a) 3/25/2023 @ 01z\", \"(b) 3/25/2023 @ 02z\"]):\n",
    "    ax.set_extent([lon_min, lon_max, lat_min, lat_max], crs=ccrs.PlateCarree())\n",
    "    ax.add_feature(cfeature.STATES.with_scale('50m'), edgecolor='gray')\n",
    "    ax.add_feature(cfeature.BORDERS.with_scale('50m'), linestyle='--', edgecolor='black')\n",
    "    ax.add_feature(cfeature.COASTLINE.with_scale('50m'))\n",
    "    \n",
    "    mesh = ax.pcolormesh(\n",
    "        Azshr_1z.longitude, Azshr_1z.latitude, masked,\n",
    "        cmap='turbo', transform=ccrs.PlateCarree(), shading='auto'\n",
    "    )\n",
    "    ax.set_title(title, fontsize=15)\n",
    "    meshes.append(mesh)\n",
    "\n",
    "# Add shared colorbar beneath both plots\n",
    "cbar_ax = fig.add_axes([0.25, 0.25, 0.5, 0.02])  # [left, bottom, width, height]\n",
    "cbar = fig.colorbar(meshes[0], cax=cbar_ax, orientation='horizontal')\n",
    "cbar.set_label('Azimuthal Shear (s^-1)')\n",
    "plt.suptitle('Merged AzShear (0-2km AGL):', fontsize='20', x=0.5, y=0.85, horizontalalignment='center', verticalalignment='top')\n",
    "\n",
    "plt.show()"
   ]
  },
  {
   "cell_type": "markdown",
   "metadata": {},
   "source": [
    "### Merged AzShear (3-6 km AGL)"
   ]
  },
  {
   "cell_type": "code",
   "execution_count": null,
   "metadata": {},
   "outputs": [],
   "source": [
    "# MergedAzShear_3-6kmAGL_00.50\n",
    "Azshrfiles1_3km = find_available_files('MergedAzShear_3-6kmAGL_00.50', '20230325', '01') # Merged AzShr (3-6km AGL)\n",
    "Azshr3_1z = fetch_mrms_data(Azshrfiles1_3km[0])\n",
    "Azshrfiles2_3km = find_available_files('MergedAzShear_3-6kmAGL_00.50', '20230325', '02')\n",
    "Azshr3_2z = fetch_mrms_data(Azshrfiles2_3km[0])\n",
    "masked1 = np.ma.masked_where(Azshr3_1z <= 0, Azshr3_1z)\n",
    "masked2 = np.ma.masked_where(Azshr3_2z <= 0, Azshr3_2z)"
   ]
  },
  {
   "cell_type": "code",
   "execution_count": null,
   "metadata": {},
   "outputs": [],
   "source": [
    "# Define bounds for Dixie Alley\n",
    "projection = ccrs.LambertConformal(central_longitude=-88, central_latitude=34)\n",
    "\n",
    "# Create side-by-side subplots\n",
    "fig, axes = plt.subplots(\n",
    "    1, 2, figsize=(16, 8),\n",
    "    subplot_kw={'projection': projection},\n",
    "    gridspec_kw={'bottom': 0.2}  # leave room for shared colorbar\n",
    ")\n",
    "\n",
    "meshes = []\n",
    "for ax, masked, title in zip(axes, [masked1, masked2], [\"(a) 3/25/2023 @ 01z\", \"(b) 3/25/2023 @ 02z\"]):\n",
    "    ax.set_extent([lon_min, lon_max, lat_min, lat_max], crs=ccrs.PlateCarree())\n",
    "    ax.add_feature(cfeature.STATES.with_scale('50m'), edgecolor='gray')\n",
    "    ax.add_feature(cfeature.BORDERS.with_scale('50m'), linestyle='--', edgecolor='black')\n",
    "    ax.add_feature(cfeature.COASTLINE.with_scale('50m'))\n",
    "    \n",
    "    mesh = ax.pcolormesh(\n",
    "        Azshr3_1z.longitude, Azshr3_1z.latitude, masked,\n",
    "        cmap='turbo', transform=ccrs.PlateCarree(), shading='auto'\n",
    "    )\n",
    "    ax.set_title(title, fontsize=15)\n",
    "    meshes.append(mesh)\n",
    "\n",
    "# Add shared colorbar beneath both plots\n",
    "cbar_ax = fig.add_axes([0.25, 0.25, 0.5, 0.02])  # [left, bottom, width, height]\n",
    "cbar = fig.colorbar(meshes[0], cax=cbar_ax, orientation='horizontal')\n",
    "cbar.set_label('Azimuthal Shear (s^-1)')\n",
    "plt.suptitle('Merged AzShear (3-6km AGL):', fontsize='20', x=0.5, y=0.85, horizontalalignment='center', verticalalignment='top')\n",
    "plt.show()"
   ]
  },
  {
   "cell_type": "markdown",
   "metadata": {},
   "source": [
    "### Rotation Track (30-minute)"
   ]
  },
  {
   "cell_type": "code",
   "execution_count": null,
   "metadata": {},
   "outputs": [],
   "source": [
    "# RotationTrack30min_00.50 \n",
    "RoTrack_30mFiles1 = find_available_files('RotationTrack30min_00.50', '20230325', '01') # Rotation Tracks (30-min)\n",
    "RoTrack_30m_1z = fetch_mrms_data(RoTrack_30mFiles1[0])\n",
    "RoTrack_30mFiles2 = find_available_files('RotationTrack30min_00.50', '20230325', '02')\n",
    "RoTrack_30m_2z = fetch_mrms_data(RoTrack_30mFiles2[0])\n",
    "masked1 = np.ma.masked_where(RoTrack_30m_1z <= 0, RoTrack_30m_1z)\n",
    "masked2 = np.ma.masked_where(RoTrack_30m_2z <= 0, RoTrack_30m_2z)"
   ]
  },
  {
   "cell_type": "code",
   "execution_count": null,
   "metadata": {},
   "outputs": [],
   "source": [
    "# Define bounds for Dixie Alley\n",
    "projection = ccrs.LambertConformal(central_longitude=-88, central_latitude=34)\n",
    "\n",
    "# Create side-by-side subplots\n",
    "fig, axes = plt.subplots(\n",
    "    1, 2, figsize=(16, 8),\n",
    "    subplot_kw={'projection': projection},\n",
    "    gridspec_kw={'bottom': 0.2}  # leave room for shared colorbar\n",
    ")\n",
    "\n",
    "meshes = []\n",
    "for ax, masked, title in zip(axes, [masked1, masked2], [\"(a) 3/25/2023 @ 01z\", \"(b) 3/25/2023 @ 02z\"]):\n",
    "    ax.set_extent([lon_min, lon_max, lat_min, lat_max], crs=ccrs.PlateCarree())\n",
    "    ax.add_feature(cfeature.STATES.with_scale('50m'), edgecolor='gray')\n",
    "    ax.add_feature(cfeature.BORDERS.with_scale('50m'), linestyle='--', edgecolor='black')\n",
    "    ax.add_feature(cfeature.COASTLINE.with_scale('50m'))\n",
    "    \n",
    "    mesh = ax.pcolormesh(\n",
    "        RoTrack_30m_1z.longitude, RoTrack_30m_1z.latitude, masked,\n",
    "        cmap='turbo', transform=ccrs.PlateCarree(), shading='auto'\n",
    "    )\n",
    "    ax.set_title(title, fontsize=15)\n",
    "    meshes.append(mesh)\n",
    "\n",
    "# Add shared colorbar beneath both plots\n",
    "cbar_ax = fig.add_axes([0.25, 0.25, 0.5, 0.02])  # [left, bottom, width, height]\n",
    "cbar = fig.colorbar(meshes[0], cax=cbar_ax, orientation='horizontal')\n",
    "cbar.set_label('Units')\n",
    "plt.suptitle('Rotation Track (30-minutes):', fontsize='20', x=0.5, y=0.85, horizontalalignment='center', verticalalignment='top')\n",
    "plt.show()"
   ]
  },
  {
   "cell_type": "markdown",
   "metadata": {},
   "source": [
    "### Rotation Track (60 minutes)"
   ]
  },
  {
   "cell_type": "code",
   "execution_count": null,
   "metadata": {},
   "outputs": [],
   "source": [
    "# RotationTrack60min_00.50\n",
    "RoTrack_60mFiles1 = find_available_files('RotationTrack60min_00.50', '20230325', '01') # Rotation Tracks (60-min)\n",
    "RoTrack_60m_1z = fetch_mrms_data(RoTrack_60mFiles1[0])\n",
    "RoTrack_60mFiles2 = find_available_files('RotationTrack30min_00.50', '20230325', '02')\n",
    "RoTrack_60m_2z = fetch_mrms_data(RoTrack_60mFiles2[0])\n",
    "masked1 = np.ma.masked_where(RoTrack_60m_1z <= 0, RoTrack_60m_1z)\n",
    "masked2 = np.ma.masked_where(RoTrack_60m_2z <= 0, RoTrack_60m_2z)"
   ]
  },
  {
   "cell_type": "code",
   "execution_count": null,
   "metadata": {},
   "outputs": [],
   "source": [
    "# Define bounds for Dixie Alley\n",
    "projection = ccrs.LambertConformal(central_longitude=-88, central_latitude=34)\n",
    "\n",
    "# Create side-by-side subplots\n",
    "fig, axes = plt.subplots(\n",
    "    1, 2, figsize=(16, 8),\n",
    "    subplot_kw={'projection': projection},\n",
    "    gridspec_kw={'bottom': 0.2}  # leave room for shared colorbar\n",
    ")\n",
    "\n",
    "meshes = []\n",
    "for ax, masked, title in zip(axes, [masked1, masked2], [\"(a) 3/25/2023 @ 01z\", \"(b) 3/25/2023 @ 02z\"]):\n",
    "    ax.set_extent([lon_min, lon_max, lat_min, lat_max], crs=ccrs.PlateCarree())\n",
    "    ax.add_feature(cfeature.STATES.with_scale('50m'), edgecolor='gray')\n",
    "    ax.add_feature(cfeature.BORDERS.with_scale('50m'), linestyle='--', edgecolor='black')\n",
    "    ax.add_feature(cfeature.COASTLINE.with_scale('50m'))\n",
    "    \n",
    "    mesh = ax.pcolormesh(\n",
    "        RoTrack_60m_1z.longitude, RoTrack_60m_1z.latitude, masked,\n",
    "        cmap='turbo', transform=ccrs.PlateCarree(), shading='auto'\n",
    "    )\n",
    "    ax.set_title(title, fontsize=15)\n",
    "    meshes.append(mesh)\n",
    "\n",
    "# Add shared colorbar beneath both plots\n",
    "cbar_ax = fig.add_axes([0.25, 0.25, 0.5, 0.02])  # [left, bottom, width, height]\n",
    "cbar = fig.colorbar(meshes[0], cax=cbar_ax, orientation='horizontal')\n",
    "cbar.set_label('Units')\n",
    "plt.suptitle('Rotation Track (Last 60-minutes):', fontsize='20', x=0.5, y=0.85, horizontalalignment='center', verticalalignment='top')\n",
    "plt.show()"
   ]
  },
  {
   "cell_type": "code",
   "execution_count": null,
   "metadata": {},
   "outputs": [],
   "source": [
    "#Coming soon:\n",
    "# RotationTrackML60min_00.50 -  for the sake of time, hold on this\n",
    "# RotationTrackML30min_00.50 -  for the sake of time, hold on this"
   ]
  },
  {
   "cell_type": "markdown",
   "metadata": {},
   "source": [
    "---"
   ]
  },
  {
   "cell_type": "markdown",
   "metadata": {},
   "source": [
    "### Hail Swaths"
   ]
  },
  {
   "cell_type": "code",
   "execution_count": null,
   "metadata": {},
   "outputs": [],
   "source": [
    "# MESH_00.50 - Maximum Expected Size of Hail\n",
    "MeshFiles1 = find_available_files('MESH_00.50', '20230325', '01') # MESH\n",
    "Mesh1z = fetch_mrms_data(MeshFiles1[0])\n",
    "MeshFiles2 = find_available_files('MESH_00.50', '20230325', '02')\n",
    "Mesh2z = fetch_mrms_data(MeshFiles2[0])\n",
    "masked1 = np.ma.masked_where(Mesh1z <= 0, Mesh1z)\n",
    "masked2 = np.ma.masked_where(Mesh2z <= 0, Mesh2z)"
   ]
  },
  {
   "cell_type": "code",
   "execution_count": null,
   "metadata": {},
   "outputs": [],
   "source": [
    "# Define bounds for Dixie Alley\n",
    "projection = ccrs.LambertConformal(central_longitude=-88, central_latitude=34)\n",
    "\n",
    "# Create side-by-side subplots\n",
    "fig, axes = plt.subplots(\n",
    "    1, 2, figsize=(16, 8),\n",
    "    subplot_kw={'projection': projection},\n",
    "    gridspec_kw={'bottom': 0.2}  # leave room for shared colorbar\n",
    ")\n",
    "\n",
    "meshes = []\n",
    "for ax, masked, title in zip(axes, [masked1, masked2], [\"(a) 3/25/2023 @ 01z\", \"(b) 3/25/2023 @ 02z\"]):\n",
    "    ax.set_extent([lon_min, lon_max, lat_min, lat_max], crs=ccrs.PlateCarree())\n",
    "    ax.add_feature(cfeature.STATES.with_scale('50m'), edgecolor='gray')\n",
    "    ax.add_feature(cfeature.BORDERS.with_scale('50m'), linestyle='--', edgecolor='black')\n",
    "    ax.add_feature(cfeature.COASTLINE.with_scale('50m'))\n",
    "    \n",
    "    mesh = ax.pcolormesh(\n",
    "        Mesh1z.longitude, Mesh1z.latitude, masked,\n",
    "        cmap='turbo', transform=ccrs.PlateCarree(), shading='auto'\n",
    "    )\n",
    "    ax.set_title(title, fontsize=15)\n",
    "    meshes.append(mesh)\n",
    "\n",
    "# Add shared colorbar beneath both plots\n",
    "cbar_ax = fig.add_axes([0.25, 0.25, 0.5, 0.02])  # [left, bottom, width, height]\n",
    "cbar = fig.colorbar(meshes[0], cax=cbar_ax, orientation='horizontal')\n",
    "cbar.set_label('Units')\n",
    "plt.suptitle('Maximum Expected Size of Hail:', fontsize='20', x=0.5, y=0.85, horizontalalignment='center', verticalalignment='top')\n",
    "plt.show()"
   ]
  },
  {
   "cell_type": "markdown",
   "metadata": {},
   "source": [
    "### Severe Hail Index"
   ]
  },
  {
   "cell_type": "code",
   "execution_count": null,
   "metadata": {},
   "outputs": [],
   "source": [
    "# SHI_00.50 - Severe Hail Index\n",
    "SHIFiles1 = find_available_files('SHI_00.50', '20230325', '01') # SHI\n",
    "SHI1z = fetch_mrms_data(SHIFiles1[0])\n",
    "SHIFiles2 = find_available_files('SHI_00.50', '20230325', '02')\n",
    "SHI2z = fetch_mrms_data(SHIFiles2[0])\n",
    "masked1 = np.ma.masked_where(SHI1z <= 0, SHI1z)\n",
    "masked2 = np.ma.masked_where(SHI2z <= 0, SHI2z)"
   ]
  },
  {
   "cell_type": "code",
   "execution_count": null,
   "metadata": {},
   "outputs": [],
   "source": [
    "# Define bounds for Dixie Alley\n",
    "projection = ccrs.LambertConformal(central_longitude=-88, central_latitude=34)\n",
    "\n",
    "# Create side-by-side subplots\n",
    "fig, axes = plt.subplots(\n",
    "    1, 2, figsize=(16, 8),\n",
    "    subplot_kw={'projection': projection},\n",
    "    gridspec_kw={'bottom': 0.2}  # leave room for shared colorbar\n",
    ")\n",
    "\n",
    "meshes = []\n",
    "for ax, masked, title in zip(axes, [masked1, masked2], [\"(a) 3/25/2023 @ 01z\", \"(b) 3/25/2023 @ 02z\"]):\n",
    "    ax.set_extent([lon_min, lon_max, lat_min, lat_max], crs=ccrs.PlateCarree())\n",
    "    ax.add_feature(cfeature.STATES.with_scale('50m'), edgecolor='gray')\n",
    "    ax.add_feature(cfeature.BORDERS.with_scale('50m'), linestyle='--', edgecolor='black')\n",
    "    ax.add_feature(cfeature.COASTLINE.with_scale('50m'))\n",
    "    \n",
    "    mesh = ax.pcolormesh(\n",
    "        SHI1z.longitude, SHI1z.latitude, masked,\n",
    "        cmap='turbo', transform=ccrs.PlateCarree(), shading='auto'\n",
    "    )\n",
    "    ax.set_title(title, fontsize=15)\n",
    "    meshes.append(mesh)\n",
    "\n",
    "# Add shared colorbar beneath both plots\n",
    "cbar_ax = fig.add_axes([0.25, 0.25, 0.5, 0.02])  # [left, bottom, width, height]\n",
    "cbar = fig.colorbar(meshes[0], cax=cbar_ax, orientation='horizontal')\n",
    "cbar.set_label('Units')\n",
    "plt.suptitle('Severe Hail Index:', fontsize='20', x=0.5, y=0.85, horizontalalignment='center', verticalalignment='top')\n",
    "plt.show()"
   ]
  },
  {
   "cell_type": "markdown",
   "metadata": {},
   "source": [
    "### Vertically Integrated Ice"
   ]
  },
  {
   "cell_type": "code",
   "execution_count": null,
   "metadata": {},
   "outputs": [],
   "source": [
    "# VII_00.50 - Vertically Integrated Ice\n",
    "VIIFiles1 = find_available_files('VII_00.50', '20230325', '01')\n",
    "VII1z = fetch_mrms_data(VIIFiles1[0])\n",
    "VIIFiles2 = find_available_files('VII_00.50', '20230325', '02')\n",
    "VII2z = fetch_mrms_data(VIIFiles2[0])\n",
    "masked1 = np.ma.masked_where(VII1z <= 0, VII1z)\n",
    "masked2 = np.ma.masked_where(VII2z <= 0, VII2z)"
   ]
  },
  {
   "cell_type": "code",
   "execution_count": null,
   "metadata": {},
   "outputs": [],
   "source": [
    "# Define bounds for Dixie Alley\n",
    "projection = ccrs.LambertConformal(central_longitude=-88, central_latitude=34)\n",
    "\n",
    "# Create side-by-side subplots\n",
    "fig, axes = plt.subplots(\n",
    "    1, 2, figsize=(16, 8),\n",
    "    subplot_kw={'projection': projection},\n",
    "    gridspec_kw={'bottom': 0.2}  # leave room for shared colorbar\n",
    ")\n",
    "\n",
    "meshes = []\n",
    "for ax, masked, title in zip(axes, [masked1, masked2], [\"(a) 3/25/2023 @ 01z\", \"(b) 3/25/2023 @ 02z\"]):\n",
    "    ax.set_extent([lon_min, lon_max, lat_min, lat_max], crs=ccrs.PlateCarree())\n",
    "    ax.add_feature(cfeature.STATES.with_scale('50m'), edgecolor='gray')\n",
    "    ax.add_feature(cfeature.BORDERS.with_scale('50m'), linestyle='--', edgecolor='black')\n",
    "    ax.add_feature(cfeature.COASTLINE.with_scale('50m'))\n",
    "    \n",
    "    mesh = ax.pcolormesh(\n",
    "        VII1z.longitude, VII1z.latitude, masked,\n",
    "        cmap='turbo', transform=ccrs.PlateCarree(), shading='auto'\n",
    "    )\n",
    "    ax.set_title(title, fontsize=15)\n",
    "    meshes.append(mesh)\n",
    "\n",
    "# Add shared colorbar beneath both plots\n",
    "cbar_ax = fig.add_axes([0.25, 0.25, 0.5, 0.02])  # [left, bottom, width, height]\n",
    "cbar = fig.colorbar(meshes[0], cax=cbar_ax, orientation='horizontal')\n",
    "cbar.set_label('Units')\n",
    "plt.suptitle('Vertically Integrated Ice:', fontsize='20', x=0.5, y=0.85, horizontalalignment='center', verticalalignment='top')\n",
    "plt.show()"
   ]
  },
  {
   "cell_type": "markdown",
   "metadata": {},
   "source": [
    "### Probability of Severe Hail"
   ]
  },
  {
   "cell_type": "code",
   "execution_count": null,
   "metadata": {},
   "outputs": [],
   "source": [
    "# POSH_00.50\n",
    "POSHFiles1 = find_available_files('POSH_00.50', '20230325', '01')\n",
    "POSH1z = fetch_mrms_data(POSHFiles1[0])\n",
    "POSHFiles2 = find_available_files('POSH_00.50', '20230325', '02')\n",
    "POSH2z = fetch_mrms_data(POSHFiles2[0])\n",
    "masked1 = np.ma.masked_where(POSH1z <= 0, POSH1z)\n",
    "masked2 = np.ma.masked_where(POSH2z <= 0, POSH2z)"
   ]
  },
  {
   "cell_type": "code",
   "execution_count": null,
   "metadata": {},
   "outputs": [],
   "source": [
    "projection = ccrs.LambertConformal(central_longitude=-88, central_latitude=34)\n",
    "\n",
    "# Create side-by-side subplots\n",
    "fig, axes = plt.subplots(\n",
    "    1, 2, figsize=(16, 8),\n",
    "    subplot_kw={'projection': projection},\n",
    "    gridspec_kw={'bottom': 0.2}  # leave room for shared colorbar\n",
    ")\n",
    "\n",
    "meshes = []\n",
    "for ax, masked, title in zip(axes, [masked1, masked2], [\"(a) 3/25/2023 @ 01z\", \"(b) 3/25/2023 @ 02z\"]):\n",
    "    ax.set_extent([lon_min, lon_max, lat_min, lat_max], crs=ccrs.PlateCarree())\n",
    "    ax.add_feature(cfeature.STATES.with_scale('50m'), edgecolor='gray')\n",
    "    ax.add_feature(cfeature.BORDERS.with_scale('50m'), linestyle='--', edgecolor='black')\n",
    "    ax.add_feature(cfeature.COASTLINE.with_scale('50m'))\n",
    "    \n",
    "    mesh = ax.pcolormesh(\n",
    "        POSH1z.longitude, POSH1z.latitude, masked,\n",
    "        cmap='turbo', transform=ccrs.PlateCarree(), shading='auto'\n",
    "    )\n",
    "    ax.set_title(title, fontsize=15)\n",
    "    meshes.append(mesh)\n",
    "\n",
    "# Add shared colorbar beneath both plots\n",
    "cbar_ax = fig.add_axes([0.25, 0.25, 0.5, 0.02])  # [left, bottom, width, height]\n",
    "cbar = fig.colorbar(meshes[0], cax=cbar_ax, orientation='horizontal')\n",
    "cbar.set_label('Units')\n",
    "plt.suptitle('Probability of Severe Hail', fontsize='20', x=0.5, y=0.85, horizontalalignment='center', verticalalignment='top')\n",
    "plt.show()"
   ]
  },
  {
   "cell_type": "markdown",
   "metadata": {},
   "source": [
    "---"
   ]
  },
  {
   "cell_type": "markdown",
   "metadata": {},
   "source": [
    "## Storm Intensity - Vertically Integrated Liquid"
   ]
  },
  {
   "cell_type": "code",
   "execution_count": null,
   "metadata": {},
   "outputs": [],
   "source": [
    "# VIL_00.50\n",
    "VILFiles1 = find_available_files('VIL_00.50', '20230325', '01')\n",
    "VIL1z = fetch_mrms_data(VILFiles1[0])\n",
    "VILFiles2 = find_available_files('VIL_00.50', '20230325', '02')\n",
    "VIL2z = fetch_mrms_data(VILFiles2[0])\n",
    "masked1 = np.ma.masked_where(VIL1z <= 0, VIL1z)\n",
    "masked2 = np.ma.masked_where(VIL2z <= 0, VIL2z)"
   ]
  },
  {
   "cell_type": "code",
   "execution_count": null,
   "metadata": {},
   "outputs": [],
   "source": [
    "# Define bounds for Dixie Alley\n",
    "projection = ccrs.LambertConformal(central_longitude=-88, central_latitude=34)\n",
    "\n",
    "# Create side-by-side subplots\n",
    "fig, axes = plt.subplots(\n",
    "    1, 2, figsize=(16, 8),\n",
    "    subplot_kw={'projection': projection},\n",
    "    gridspec_kw={'bottom': 0.2}  # leave room for shared colorbar\n",
    ")\n",
    "\n",
    "meshes = []\n",
    "for ax, masked, title in zip(axes, [masked1, masked2], [\"(a) 3/25/2023 @ 01z\", \"(b) 3/25/2023 @ 02z\"]):\n",
    "    ax.set_extent([lon_min, lon_max, lat_min, lat_max], crs=ccrs.PlateCarree())\n",
    "    ax.add_feature(cfeature.STATES.with_scale('50m'), edgecolor='gray')\n",
    "    ax.add_feature(cfeature.BORDERS.with_scale('50m'), linestyle='--', edgecolor='black')\n",
    "    ax.add_feature(cfeature.COASTLINE.with_scale('50m'))\n",
    "    \n",
    "    mesh = ax.pcolormesh(\n",
    "        VIL1z.longitude, VIL1z.latitude, masked,\n",
    "        cmap='turbo', transform=ccrs.PlateCarree(), shading='auto'\n",
    "    )\n",
    "    ax.set_title(title, fontsize=15)\n",
    "    meshes.append(mesh)\n",
    "\n",
    "# Add shared colorbar beneath both plots\n",
    "cbar_ax = fig.add_axes([0.25, 0.25, 0.5, 0.02])  # [left, bottom, width, height]\n",
    "cbar = fig.colorbar(meshes[0], cax=cbar_ax, orientation='horizontal')\n",
    "cbar.set_label('Units')\n",
    "plt.suptitle('Vertically Integrated Liquid:', fontsize='20', x=0.5, y=0.85, horizontalalignment='center', verticalalignment='top')\n",
    "plt.show()"
   ]
  },
  {
   "cell_type": "markdown",
   "metadata": {},
   "source": [
    "### Vertically Integrated Liquid Density"
   ]
  },
  {
   "cell_type": "code",
   "execution_count": null,
   "metadata": {},
   "outputs": [],
   "source": [
    "# VIL_Density_00.50\n",
    "VILDFiles1 = find_available_files('VIL_Density_00.50', '20230325', '01')\n",
    "VILD1z = fetch_mrms_data(VILDFiles1[0])\n",
    "VILDFiles2 = find_available_files('VIL_Density_00.50', '20230325', '02')\n",
    "VILD2z = fetch_mrms_data(VILDFiles2[0])\n",
    "masked1 = np.ma.masked_where(VILD1z <= 0, VILD1z)\n",
    "masked2 = np.ma.masked_where(VILD2z <= 0, VILD2z)"
   ]
  },
  {
   "cell_type": "code",
   "execution_count": null,
   "metadata": {},
   "outputs": [],
   "source": [
    "# Define bounds for Dixie Alley\n",
    "projection = ccrs.LambertConformal(central_longitude=-88, central_latitude=34)\n",
    "\n",
    "# Create side-by-side subplots\n",
    "fig, axes = plt.subplots(\n",
    "    1, 2, figsize=(16, 8),\n",
    "    subplot_kw={'projection': projection},\n",
    "    gridspec_kw={'bottom': 0.2}  # leave room for shared colorbar\n",
    ")\n",
    "\n",
    "meshes = []\n",
    "for ax, masked, title in zip(axes, [masked1, masked2], [\"(a) 3/25/2023 @ 01z\", \"(b) 3/25/2023 @ 02z\"]):\n",
    "    ax.set_extent([lon_min, lon_max, lat_min, lat_max], crs=ccrs.PlateCarree())\n",
    "    ax.add_feature(cfeature.STATES.with_scale('50m'), edgecolor='gray')\n",
    "    ax.add_feature(cfeature.BORDERS.with_scale('50m'), linestyle='--', edgecolor='black')\n",
    "    ax.add_feature(cfeature.COASTLINE.with_scale('50m'))\n",
    "    \n",
    "    mesh = ax.pcolormesh(\n",
    "        VILD1z.longitude, VILD1z.latitude, masked,\n",
    "        cmap='turbo', transform=ccrs.PlateCarree(), shading='auto'\n",
    "    )\n",
    "    ax.set_title(title, fontsize=15)\n",
    "    meshes.append(mesh)\n",
    "\n",
    "# Add shared colorbar beneath both plots\n",
    "cbar_ax = fig.add_axes([0.25, 0.25, 0.5, 0.02])  # [left, bottom, width, height]\n",
    "cbar = fig.colorbar(meshes[0], cax=cbar_ax, orientation='horizontal')\n",
    "cbar.set_label('Units')\n",
    "plt.suptitle('Vertically Integrated Liquid Density:', fontsize='20', x=0.5, y=0.85, horizontalalignment='center', verticalalignment='top')\n",
    "plt.show()"
   ]
  },
  {
   "cell_type": "markdown",
   "metadata": {},
   "source": [
    "### 120-Minute Vertically Integrated Liquid Maximum"
   ]
  },
  {
   "cell_type": "code",
   "execution_count": null,
   "metadata": {},
   "outputs": [],
   "source": [
    "# VIL_Max_120min_00.50\n",
    "VILMFiles1 = find_available_files('VIL_Max_120min_00.50', '20230325', '01')\n",
    "VILM1z = fetch_mrms_data(VILMFiles1[0])\n",
    "VILMFiles2 = find_available_files('VIL_Max_120min_00.50', '20230325', '02')\n",
    "VILM2z = fetch_mrms_data(VILMFiles2[0])\n",
    "masked1 = np.ma.masked_where(VILM1z <= 0, VILM1z)\n",
    "masked2 = np.ma.masked_where(VILM2z <= 0, VILM2z)"
   ]
  },
  {
   "cell_type": "code",
   "execution_count": null,
   "metadata": {},
   "outputs": [],
   "source": [
    "# Define bounds for Dixie Alley\n",
    "projection = ccrs.LambertConformal(central_longitude=-88, central_latitude=34)\n",
    "\n",
    "# Create side-by-side subplots\n",
    "fig, axes = plt.subplots(\n",
    "    1, 2, figsize=(16, 8),\n",
    "    subplot_kw={'projection': projection},\n",
    "    gridspec_kw={'bottom': 0.2}  # leave room for shared colorbar\n",
    ")\n",
    "\n",
    "meshes = []\n",
    "for ax, masked, title in zip(axes, [masked1, masked2], [\"(a) 3/25/2023 @ 01z\", \"(b) 3/25/2023 @ 02z\"]):\n",
    "    ax.set_extent([lon_min, lon_max, lat_min, lat_max], crs=ccrs.PlateCarree())\n",
    "    ax.add_feature(cfeature.STATES.with_scale('50m'), edgecolor='gray')\n",
    "    ax.add_feature(cfeature.BORDERS.with_scale('50m'), linestyle='--', edgecolor='black')\n",
    "    ax.add_feature(cfeature.COASTLINE.with_scale('50m'))\n",
    "    \n",
    "    mesh = ax.pcolormesh(\n",
    "        VILM1z.longitude, VILM1z.latitude, masked,\n",
    "        cmap='turbo', transform=ccrs.PlateCarree(), shading='auto'\n",
    "    )\n",
    "    ax.set_title(title, fontsize=15)\n",
    "    meshes.append(mesh)\n",
    "\n",
    "# Add shared colorbar beneath both plots\n",
    "cbar_ax = fig.add_axes([0.25, 0.25, 0.5, 0.02])  # [left, bottom, width, height]\n",
    "cbar = fig.colorbar(meshes[0], cax=cbar_ax, orientation='horizontal')\n",
    "cbar.set_label('Units')\n",
    "plt.suptitle('120-Minute Vertically Integrated Liqud Maximum:', fontsize='20', x=0.5, y=0.85, horizontalalignment='center', verticalalignment='top')\n",
    "plt.show()"
   ]
  },
  {
   "cell_type": "markdown",
   "metadata": {},
   "source": [
    "---"
   ]
  },
  {
   "cell_type": "markdown",
   "metadata": {},
   "source": [
    "## Conclusion\n",
    "\n",
    "This chapter demonstrated how MRMS data can be efficiently accessed, processed, and visualized to analyze severe weather events, using the Rolling Fork–Silver City tornado as a case study. By leveraging AWS-hosted datasets and customizing spatial extents, users can explore multiple dimensions of storm structure—from reflectivity and rotation to hail swaths and precipitation rates.\n",
    "\n",
    "The workflow presented here not only underscores the value of MRMS products for post-event analysis but also equips researchers and practitioners with tools to rapidly assess and interpret high-impact weather. As severe weather threats continue to evolve, accessible and scalable data pipelines like this one are essential for advancing situational awareness and scientific understanding.\n",
    "\n",
    "## Next Steps\n",
    "\n",
    "In the next chapter, we shift focus from tornadic activity to flood impacts by examining the Texas Floods of early July 2025. Using the same MRMS data pipeline introduced here, we explore how radar reflectivity can be used to assess flood severity and spatial extent.\n",
    "\n",
    "This upcoming case study highlights the adaptability of MRMS datasets for analyzing diverse weather hazards—demonstrating how a unified data approach can support both convective and flood event investigations."
   ]
  },
  {
   "cell_type": "markdown",
   "metadata": {},
   "source": [
    "## Resources and references\n"
   ]
  },
  {
   "cell_type": "markdown",
   "metadata": {},
   "source": [
    "NOAA/NSSL, 2025: Multi-Radar/Multi-Sensor System (MRMS). National Severe Storms Laboratory. [https://www.nssl.noaa.gov/projects/mrms/](https://www.nssl.noaa.gov/projects/mrms/)"
   ]
  },
  {
   "cell_type": "code",
   "execution_count": null,
   "metadata": {},
   "outputs": [],
   "source": []
  }
 ],
 "metadata": {
  "kernelspec": {
   "display_name": "Python [conda env:notebook] *",
   "language": "python",
   "name": "conda-env-notebook-py"
  },
  "language_info": {
   "codemirror_mode": {
    "name": "ipython",
    "version": 3
   },
   "file_extension": ".py",
   "mimetype": "text/x-python",
   "name": "python",
   "nbconvert_exporter": "python",
   "pygments_lexer": "ipython3",
   "version": "3.12.8"
  },
  "nbdime-conflicts": {
   "local_diff": [
    {
     "diff": [
      {
       "diff": [
        {
         "key": 0,
         "op": "addrange",
         "valuelist": [
          "Python 3"
         ]
        },
        {
         "key": 0,
         "length": 1,
         "op": "removerange"
        }
       ],
       "key": "display_name",
       "op": "patch"
      }
     ],
     "key": "kernelspec",
     "op": "patch"
    }
   ],
   "remote_diff": [
    {
     "diff": [
      {
       "diff": [
        {
         "key": 0,
         "op": "addrange",
         "valuelist": [
          "Python3"
         ]
        },
        {
         "key": 0,
         "length": 1,
         "op": "removerange"
        }
       ],
       "key": "display_name",
       "op": "patch"
      }
     ],
     "key": "kernelspec",
     "op": "patch"
    }
   ]
  },
  "toc-autonumbering": false
 },
 "nbformat": 4,
 "nbformat_minor": 4
}
