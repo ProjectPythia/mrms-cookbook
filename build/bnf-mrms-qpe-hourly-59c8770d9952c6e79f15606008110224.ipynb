{
 "cells": [
  {
   "cell_type": "markdown",
   "metadata": {},
   "source": [
    "```{image} ../thumbnails/arm_logo.png\n",
    ":alt: ARM Logo\n",
    ":width: 500px\n",
    "```"
   ]
  },
  {
   "cell_type": "markdown",
   "metadata": {},
   "source": [
    "# NOAA Multi-Radar / Multi-Sensor System (MRMS) at the BNF Field Site(s)"
   ]
  },
  {
   "cell_type": "markdown",
   "metadata": {},
   "source": [
    "## Overview\n",
    "We'll go through the steps of:\n",
    "\n",
    "1. Define our region of verification sites\n",
    "1. Query and Load Data from MRMS Buckets on AWS\n",
    "1. Create a Multi-Panel Display of QPE for the different sites"
   ]
  },
  {
   "cell_type": "markdown",
   "metadata": {},
   "source": [
    "## Prerequisites\n",
    "\n",
    "\n",
    "| Concepts | Importance | Notes |\n",
    "| --- | --- | --- |\n",
    "| [Intro to Cartopy](https://foundations.projectpythia.org/core/cartopy/cartopy) | Necessary | Mapping and Tiles |\n",
    "| [Intro to Xarray](https://foundations.projectpythia.org/core/xarray/xarray-intro/) | Necessary | Familiarity with metadata structure |\n",
    "\n",
    "- **Time to learn**: 30 minutes\n",
    "- **System requirements**:\n",
    "    - Any Operating System\n",
    "    - At least 8 GB of RAM"
   ]
  },
  {
   "cell_type": "markdown",
   "metadata": {},
   "source": [
    "## Imports"
   ]
  },
  {
   "cell_type": "code",
   "execution_count": null,
   "metadata": {},
   "outputs": [],
   "source": [
    "import cfgrib\n",
    "import xarray as xr\n",
    "import fsspec\n",
    "import glob\n",
    "import tempfile\n",
    "import gzip\n",
    "import geopandas as gpd\n",
    "import pandas as pd\n",
    "import numpy as np\n",
    "import warnings\n",
    "\n",
    "from cartopy import feature as cfeature\n",
    "import cartopy.crs as ccrs\n",
    "from cartopy.io.img_tiles import OSM\n",
    "from matplotlib.transforms import offset_copy\n",
    "from matplotlib import pyplot as plt\n",
    "\n",
    "from metpy.plots import USCOUNTIES\n",
    "\n",
    "import cmweather\n",
    "\n",
    "# To ignore all RuntimeWarnings globally\n",
    "warnings.filterwarnings(\"ignore\", category=RuntimeWarning)"
   ]
  },
  {
   "cell_type": "markdown",
   "metadata": {},
   "source": [
    "## Hourly QPE BNF Mosaic\n",
    "\n",
    "The [NOAA Multi-Radar / Multi-Sensor System (MRMS)](https://www.nssl.noaa.gov/projects/mrms/) was created to produce products of preciptiation impacts on transportation and aviation. \n",
    "\n",
    "Using the [NOAA MRMS AWS Bucket](https://aws.amazon.com/marketplace/pp/prodview-6odvdc4md2jjc), this notebook details creation of quicklooks to investigate a Quantitative Preciptiation Estimates (QPE) for the U.S. Department of Energy Atmospheric Radiation Measurement (ARM) AMF-3 Deployment to Bankhead National Forest.\n",
    "\n",
    "We start first with a dictionary containing our sites of interest, these are located Southwest of Decatur, Alabama.\n",
    "\n",
    "More about the BNF Site can be found on the [ARM Website](https://www.arm.gov/capabilities/observatories/bnf)."
   ]
  },
  {
   "cell_type": "code",
   "execution_count": null,
   "metadata": {},
   "outputs": [],
   "source": [
    "global_sites = {\"M1\" : [34.34525, -87.33842],\n",
    "                \"S4\" : [34.46451, -87.23598],\n",
    "                \"S3\" : [34.63080, -87.13311],\n",
    "                \"S20\" : [34.65401, -87.29264],\n",
    "                \"S30\" : [34.38501, -86.92757],\n",
    "                \"S40\" : [34.17932, -87.45349]}\n",
    "\n",
    "\n",
    "# Define a domain to set the extent of the figures\n",
    "bnf_domain = [272.0, 274.0, 34.1, 35.1]"
   ]
  },
  {
   "cell_type": "markdown",
   "metadata": {},
   "source": [
    "### Visualize the Site Locations Using Cartopy"
   ]
  },
  {
   "cell_type": "code",
   "execution_count": null,
   "metadata": {},
   "outputs": [],
   "source": [
    "fig = plt.figure(figsize=(12,8))\n",
    "ax = plt.subplot(projection=ccrs.PlateCarree())\n",
    "\n",
    "tiler = OSM()\n",
    "ax.add_image(tiler, 12, zorder=0, alpha=0.7)\n",
    "for site in global_sites:\n",
    "    ax.scatter(global_sites[site][1], global_sites[site][0], label=site)\n",
    "\n",
    "ax.set_extent(bnf_domain)\n",
    "\n",
    "plt.legend(loc=\"upper right\")\n",
    "plt.title(\"ARM Bankhead National Forest Sites\", fontsize=16);"
   ]
  },
  {
   "cell_type": "markdown",
   "metadata": {},
   "source": [
    "## Query and Load Data from MRMS Buckets on AWS\n",
    "\n",
    "Note the Multi-Sensor (i.e. gauge adjusted) QPE product is split into two categories (Pass 1 and Pass 2), which defines the gauge latency used to adjust radar dervied QPE. "
   ]
  },
  {
   "cell_type": "code",
   "execution_count": null,
   "metadata": {},
   "outputs": [],
   "source": [
    "# Define a Date for Analysis [YYYYMMDD format]\n",
    "DATE = \"20250524\"\n",
    "HOUR = \"000000\""
   ]
  },
  {
   "cell_type": "code",
   "execution_count": null,
   "metadata": {},
   "outputs": [],
   "source": [
    "## Setup the AWS S3 filesystem\n",
    "fs = fsspec.filesystem(\"s3\", anon=True)"
   ]
  },
  {
   "cell_type": "code",
   "execution_count": null,
   "metadata": {},
   "outputs": [],
   "source": [
    "s3_multi_bucket = [f\"s3://noaa-mrms-pds/CONUS/MultiSensor_QPE_01H_Pass1_00.00/{DATE}/*.gz\"]\n",
    "s3_pass2_bucket = [f\"s3://noaa-mrms-pds/CONUS/MultiSensor_QPE_01H_Pass2_00.00/{DATE}/*.gz\"]\n",
    "s3_radar_bucket = [f\"s3://noaa-mrms-pds/CONUS/RadarOnly_QPE_01H_00.00/{DATE}/*[0-9]0000.grib2.gz\"]"
   ]
  },
  {
   "cell_type": "markdown",
   "metadata": {},
   "source": [
    "### Loop through and Create Lists of Datasets\n",
    "Our next step is to search, access, and load our data into merged datasets, adding some additional metadata such as units. We apply this for each our our multipass, pass2, and radar datasets."
   ]
  },
  {
   "cell_type": "code",
   "execution_count": null,
   "metadata": {},
   "outputs": [],
   "source": [
    "ds_multi_list = []\n",
    "for scan in s3_multi_bucket:\n",
    "    file_path = sorted(fs.glob(scan))\n",
    "    for mrms in file_path:\n",
    "        with fs.open(mrms, 'rb') as gzip_file:\n",
    "            with tempfile.NamedTemporaryFile(suffix=\".grib2\") as f:\n",
    "                # Uncompress and read the file\n",
    "                f.write(gzip.decompress(gzip_file.read()))\n",
    "                ds = xr.load_dataset(f.name, decode_timedelta=False)\n",
    "                # Parameters are stored as 'unknown'; meta data in filename\n",
    "                ds = ds.rename({\"unknown\" : \"multisensor_qpe_1hr\"})\n",
    "                ds[\"multisensor_qpe_1hr\"].attrs[\"units\"] = \"mm\"\n",
    "                ds[\"multisensor_qpe_1hr\"].attrs[\"long_name\"] = \"Precipitation Accumulation (1-Hr latency)\"\n",
    "                # Subset for the desired bounding box and take out all missing values\n",
    "                ds = ds.sel(latitude=slice(bnf_domain[3], bnf_domain[2]), longitude=slice(bnf_domain[0], bnf_domain[1])).where(ds.multisensor_qpe_1hr > 0)\n",
    "                ds_multi_list.append(ds)"
   ]
  },
  {
   "cell_type": "code",
   "execution_count": null,
   "metadata": {},
   "outputs": [],
   "source": [
    "ds_radar_list = []\n",
    "for scan in s3_radar_bucket:\n",
    "    file_path = sorted(fs.glob(scan))\n",
    "    for mrms in file_path:\n",
    "        with fs.open(mrms, 'rb') as gzip_file:\n",
    "            with tempfile.NamedTemporaryFile(suffix=\".grib2\") as f:\n",
    "                # Uncompress and read the file\n",
    "                f.write(gzip.decompress(gzip_file.read()))\n",
    "                ds = xr.load_dataset(f.name, decode_timedelta=False)\n",
    "                ds = ds.rename({\"unknown\" : \"radar_qpe_1hr\"})\n",
    "                ds[\"radar_qpe_1hr\"].attrs[\"units\"] = \"mm\"\n",
    "                ds[\"radar_qpe_1hr\"].attrs[\"long_name\"] = \"Precipitation Accumulation\"\n",
    "                 # Subset for the desired bounding box and take out all missing values\n",
    "                ds = ds.sel(latitude=slice(bnf_domain[3], bnf_domain[2]), longitude=slice(bnf_domain[0], bnf_domain[1])).where(ds.radar_qpe_1hr > 0)\n",
    "                ds_radar_list.append(ds)"
   ]
  },
  {
   "cell_type": "code",
   "execution_count": null,
   "metadata": {},
   "outputs": [],
   "source": [
    "ds_pass2_list = []\n",
    "for scan in s3_pass2_bucket:\n",
    "    file_path = sorted(fs.glob(scan))\n",
    "    for mrms in file_path:\n",
    "        with fs.open(mrms, 'rb') as gzip_file:\n",
    "            with tempfile.NamedTemporaryFile(suffix=\".grib2\") as f:\n",
    "                # Uncompress and read the file\n",
    "                f.write(gzip.decompress(gzip_file.read()))\n",
    "                ds = xr.load_dataset(f.name, decode_timedelta=False)\n",
    "                ds = ds.rename({\"unknown\" : \"multisensor_qpe_pass2\"})\n",
    "                ds[\"multisensor_qpe_pass2\"].attrs[\"units\"] = \"mm\"\n",
    "                ds[\"multisensor_qpe_pass2\"].attrs[\"long_name\"] = \"Precipitation Accumulation (2-Hr latency)\"\n",
    "                # Subset for the desired bounding box and take out all missing values\n",
    "                ds = ds.sel(latitude=slice(bnf_domain[3], bnf_domain[2]), longitude=slice(bnf_domain[0], bnf_domain[1])).where(ds.multisensor_qpe_pass2 > 0)\n",
    "                ds_pass2_list.append(ds)"
   ]
  },
  {
   "cell_type": "markdown",
   "metadata": {},
   "source": [
    "### Merge our Files Together\n",
    "Once we have lists of files, we can merge based on the time dimension."
   ]
  },
  {
   "cell_type": "code",
   "execution_count": null,
   "metadata": {},
   "outputs": [],
   "source": [
    "# Concatenate all hourly files into xarray datasets\n",
    "ds_radar_merged = xr.concat(ds_radar_list, dim=\"time\")\n",
    "ds_multi_merged = xr.concat(ds_multi_list, dim=\"time\")\n",
    "ds_pass2_merged = xr.concat(ds_pass2_list, dim=\"time\")"
   ]
  },
  {
   "cell_type": "markdown",
   "metadata": {},
   "source": [
    "And finally merge our various passes and QPE data into one single dataset."
   ]
  },
  {
   "cell_type": "code",
   "execution_count": null,
   "metadata": {},
   "outputs": [],
   "source": [
    "# Merge Radar, Multi-Sensor Pass 1 and Multi-Sensor Pass 2 QPE into single dataset\n",
    "ds_merged = xr.merge([ds_radar_merged, ds_multi_merged, ds_pass2_merged])"
   ]
  },
  {
   "cell_type": "markdown",
   "metadata": {},
   "source": [
    "### Calculate Precipitation Accumulation\n",
    "Our last step is to calculate our preciptiation accumulation as observed from radar data. We do this by using the xarray cumulative sum [cumsum](https://docs.xarray.dev/en/latest/generated/xarray.DataArray.cumsum.html) function."
   ]
  },
  {
   "cell_type": "code",
   "execution_count": null,
   "metadata": {},
   "outputs": [],
   "source": [
    "# Calculate the Cumulative Distribution\n",
    "radar_cumulative = ds_merged['radar_qpe_1hr'].cumsum(dim='time')\n",
    "multisensor = ds_merged['multisensor_qpe_1hr'].cumsum(dim=\"time\")\n",
    "multisensor_pass2 = ds_merged['multisensor_qpe_pass2'].cumsum(dim=\"time\")\n",
    "\n",
    "ds_merged['cumulative_radar_qpe'] = radar_cumulative\n",
    "ds_merged[\"cumulative_radar_qpe\"].attrs[\"units\"] = \"mm\"\n",
    "ds_merged[\"cumulative_radar_qpe\"].attrs[\"long_name\"] = \"Precipitation Accumulation\"\n",
    "\n",
    "ds_merged['cumulative_multisensor'] = multisensor\n",
    "ds_merged[\"cumulative_multisensor\"].attrs[\"units\"] = \"mm\"\n",
    "ds_merged[\"cumulative_multisensor\"].attrs[\"long_name\"] = \"Precipitation Accumulation (1-Hr latency)\"\n",
    "\n",
    "ds_merged['cumulative_ms_pass2'] = multisensor_pass2\n",
    "ds_merged[\"cumulative_ms_pass2\"].attrs[\"units\"] = \"mm\"\n",
    "ds_merged[\"cumulative_ms_pass2\"].attrs[\"long_name\"] = \"Precipitation Accumulation (2-Hr latency)\"\n",
    "ds_merged"
   ]
  },
  {
   "cell_type": "markdown",
   "metadata": {},
   "source": [
    "## Create a Multi-Panel QPE Display\n",
    "\n",
    "Now that we have our merged, cleaned data, we can create a single graphic summarizing the cumulative precipitation at our different sites. We use nearest neighbor here to subset from the broader region."
   ]
  },
  {
   "cell_type": "code",
   "execution_count": null,
   "metadata": {},
   "outputs": [],
   "source": [
    "#---------------------------------------------------\n",
    "# Define the Figure for Detailed Subplot Placement\n",
    "#---------------------------------------------------\n",
    "fig = plt.figure(figsize=(24, 10))\n",
    "tiler = OSM()\n",
    "mercator = tiler.crs\n",
    "ax = fig.add_subplot(1, 3, 1, projection=ccrs.PlateCarree())\n",
    "\n",
    "# adjust the subplot widths\n",
    "plt.subplots_adjust(wspace=0.3)\n",
    "\n",
    "# Find the maximum value at each position\n",
    "da_max = ds_merged.isel(time=-1).radar_qpe_1hr.max()\n",
    "\n",
    "# Find the minimum value at each position\n",
    "da_min = 0\n",
    "\n",
    "# ---------------------------------------------\n",
    "# Display the Radar Precipitation Accumulation\n",
    "# ---------------------------------------------\n",
    "\n",
    "## subset the data\n",
    "ds_merged.isel(time=15).radar_qpe_1hr.plot(transform=ccrs.PlateCarree(),\n",
    "                                           ax=ax,\n",
    "                                           cmap=\"ChaseSpectral\",\n",
    "                                           vmin=da_min,\n",
    "                                           vmax=da_max,\n",
    "                                           cbar_kwargs={\"location\" : \"bottom\"})\n",
    "\n",
    "# Add some various map elements to the plot to make it recognizable.\n",
    "ax.add_feature(cfeature.LAND)\n",
    "ax.add_feature(cfeature.OCEAN)\n",
    "ax.add_feature(cfeature.BORDERS)\n",
    "ax.add_image(tiler, 12, zorder=1, alpha=0.55)\n",
    "ax.gridlines(draw_labels=True)\n",
    "\n",
    "# Set plot bounds\n",
    "ax.set_extent(bnf_domain)\n",
    "\n",
    "# add in crosshairs to indicate the lat/lon slices\n",
    "ax.axhline(y=global_sites[\"M1\"][0], color=\"black\", linestyle=\"--\")\n",
    "ax.axvline(x=global_sites[\"M1\"][1], color=\"red\", linestyle=\"--\")\n",
    "\n",
    "# Display the location of the BNF supplementarly sites\n",
    "for key in global_sites:\n",
    "    # Add a marker for the BNF sites.\n",
    "    ax.plot(global_sites[key][1], \n",
    "            global_sites[key][0], \n",
    "            marker='o', \n",
    "            color='black', \n",
    "            markersize=10, \n",
    "            alpha=0.7, \n",
    "            transform=ccrs.PlateCarree())\n",
    "\n",
    "    # Use the cartopy interface to create a matplotlib transform object\n",
    "    # for the Geodetic coordinate system. We will use this along with\n",
    "    # matplotlib's offset_copy function to define a coordinate system which\n",
    "    # translates the text by 25 pixels to the left.\n",
    "    geodetic_transform = ccrs.PlateCarree()._as_mpl_transform(ax)\n",
    "    text_transform = offset_copy(geodetic_transform, units='dots', x=+50, y=+15)\n",
    "\n",
    "    # Add text to the right of the symbol.\n",
    "    ax.text(global_sites[key][1]-0.1, \n",
    "            global_sites[key][0], \n",
    "            key, \n",
    "            verticalalignment='center', \n",
    "            horizontalalignment='right', \n",
    "            transform=text_transform,\n",
    "            bbox=dict(facecolor='sandybrown', \n",
    "            alpha=0.5, \n",
    "            boxstyle='round'))\n",
    "    \n",
    "# update the title of the display\n",
    "ax.set_title(np.datetime_as_string(ds_merged['valid_time'].isel(time=15).data, unit='s').replace(\"T\", \" - \") + \n",
    "             \"Z\\n\" + \"Radar Derived 1-Hr QPE - MRMS\")\n",
    "\n",
    "# ----------------------------\n",
    "# Display the Multisensor QPE\n",
    "# ----------------------------\n",
    "## subset the data\n",
    "ax1 = fig.add_subplot(1, 3, 2, projection=ccrs.PlateCarree())\n",
    "ds_merged.isel(time=15).multisensor_qpe_1hr.plot(transform=ccrs.PlateCarree(),\n",
    "                                                 ax=ax1,\n",
    "                                                 cmap=\"ChaseSpectral\",\n",
    "                                                 vmin=da_min,\n",
    "                                                 vmax=da_max,\n",
    "                                                 cbar_kwargs={\"location\" : \"bottom\"})\n",
    "\n",
    "# Add some various map elements to the plot to make it recognizable.\n",
    "ax1.add_feature(cfeature.LAND)\n",
    "ax1.add_feature(cfeature.OCEAN)\n",
    "ax1.add_feature(cfeature.BORDERS)\n",
    "ax1.add_image(tiler, 12, zorder=1, alpha=0.55)\n",
    "ax1.gridlines(draw_labels=True)\n",
    "\n",
    "# Set plot bounds\n",
    "ax1.set_extent(bnf_domain)\n",
    "\n",
    "# add in crosshairs to indicate the lat/lon slices\n",
    "ax1.axhline(y=global_sites[\"M1\"][0], color=\"black\", linestyle=\"--\")\n",
    "ax1.axvline(x=global_sites[\"M1\"][1], color=\"red\", linestyle=\"--\")\n",
    "\n",
    "# Display the location of the BNF Supplementary Site\n",
    "for key in global_sites:\n",
    "    # Add a marker for the BNF sites.\n",
    "    ax1.plot(global_sites[key][1], \n",
    "            global_sites[key][0], \n",
    "            marker='o', \n",
    "            color='black', \n",
    "            markersize=10, \n",
    "            alpha=0.7, \n",
    "            transform=ccrs.PlateCarree())\n",
    "\n",
    "    # Use the cartopy interface to create a matplotlib transform object\n",
    "    # for the Geodetic coordinate system. We will use this along with\n",
    "    # matplotlib's offset_copy function to define a coordinate system which\n",
    "    # translates the text by 25 pixels to the left.\n",
    "    geodetic_transform = ccrs.PlateCarree()._as_mpl_transform(ax1)\n",
    "    text_transform = offset_copy(geodetic_transform, units='dots', x=+50, y=+15)\n",
    "\n",
    "\n",
    "    # Add text to the right of the site marker.\n",
    "    ax1.text(global_sites[key][1]-0.1, \n",
    "             global_sites[key][0], \n",
    "             key, \n",
    "             verticalalignment='center', \n",
    "             horizontalalignment='right', \n",
    "             transform=text_transform,\n",
    "             bbox=dict(facecolor='sandybrown', \n",
    "             alpha=0.5, \n",
    "             boxstyle='round')\n",
    "    )\n",
    "    \n",
    "# update the title of the display\n",
    "ax1.set_title(np.datetime_as_string(ds_merged['valid_time'].isel(time=15).data, unit='s').replace(\"T\", \" - \") + \n",
    "             \"Z\\n\" + \"Multisensor 1-Hr QPE - Pass 1\")\n",
    "\n",
    "# ----------------------------\n",
    "# Display the QPE Difference\n",
    "# ----------------------------\n",
    "## subset the data\n",
    "ax3 = fig.add_subplot(1, 3, 3, projection=ccrs.PlateCarree())\n",
    "ds_merged.isel(time=15).multisensor_qpe_pass2.plot(transform=ccrs.PlateCarree(),\n",
    "                                                   ax=ax3,\n",
    "                                                   cmap=\"ChaseSpectral\",\n",
    "                                                   vmin=da_min,\n",
    "                                                   vmax=da_max,\n",
    "                                                   cbar_kwargs={\"location\" : \"bottom\"})\n",
    "\n",
    "# Add some various map elements to the plot to make it recognizable.\n",
    "ax3.add_feature(cfeature.LAND)\n",
    "ax3.add_feature(cfeature.OCEAN)\n",
    "ax3.add_feature(cfeature.BORDERS)\n",
    "ax3.add_image(tiler, 12, zorder=1, alpha=0.55)\n",
    "ax3.gridlines(draw_labels=True)\n",
    "\n",
    "# Set plot bounds\n",
    "ax3.set_extent(bnf_domain)\n",
    "\n",
    "# add in crosshairs to indicate the lat/lon slices\n",
    "ax3.axhline(y=global_sites[\"M1\"][0], color=\"black\", linestyle=\"--\")\n",
    "ax3.axvline(x=global_sites[\"M1\"][1], color=\"red\", linestyle=\"--\")\n",
    "\n",
    "# Display the location of the BNF Supplementary Sites\n",
    "for key in global_sites:\n",
    "    # Add a marker for the BNF sites.\n",
    "    ax3.plot(global_sites[key][1], \n",
    "            global_sites[key][0], \n",
    "            marker='o', \n",
    "            color='black', \n",
    "            markersize=10, \n",
    "            alpha=0.7, \n",
    "            transform=ccrs.PlateCarree())\n",
    "\n",
    "    # Use the cartopy interface to create a matplotlib transform object\n",
    "    # for the Geodetic coordinate system. We will use this along with\n",
    "    # matplotlib's offset_copy function to define a coordinate system which\n",
    "    # translates the text by 25 pixels to the left.\n",
    "    geodetic_transform = ccrs.PlateCarree()._as_mpl_transform(ax3)\n",
    "    text_transform = offset_copy(geodetic_transform, units='dots', x=+50, y=+15)\n",
    "\n",
    "    # Add text to the right of the site marker.\n",
    "    ax3.text(global_sites[key][1]-0.1, \n",
    "             global_sites[key][0], \n",
    "             key, \n",
    "             verticalalignment='center', \n",
    "             horizontalalignment='right', \n",
    "             transform=text_transform,\n",
    "             bbox=dict(facecolor='sandybrown', \n",
    "             alpha=0.5, \n",
    "             boxstyle='round'))\n",
    "    \n",
    "# update the title of the display\n",
    "ax3.set_title(np.datetime_as_string(ds_merged['valid_time'].isel(time=15).data, unit='s').replace(\"T\", \" - \") + \n",
    "             \"Z\\n\" + \"MultiSensor 24-Hr QPE - Pass 2\");"
   ]
  },
  {
   "cell_type": "markdown",
   "metadata": {},
   "source": [
    "## Summary\n",
    "Within this notebook, we explored plotting a set of a field sites, accessing MRMS data, and visualizing a case over the ARM DOE Bankhead National Forest field site. We hope this serves as a framework for verification and understanding precipitation values in specific regions of interest.\n",
    "\n",
    "### What's Next\n",
    "We can extend this workflow by investigating timeseries for the various sites and looking into more robust verification techniques.\n",
    "\n",
    "## References\n",
    "- [Notebook originally modified from Joseph O'Brien](https://github.com/ARM-Development/bnf-radar-examples/blob/main/notebooks/bnf-mrms-qpe-hourly.ipynb)\n",
    "- [NOAA Multi-Radar/Multi-Sensor System (MRMS) was accessed on from https://registry.opendata.aws/noaa-mrms-pds](https://registry.opendata.aws/noaa-mrms-pds)"
   ]
  }
 ],
 "metadata": {
  "kernelspec": {
   "display_name": "Python 3 (ipykernel)",
   "language": "python",
   "name": "python3"
  },
  "language_info": {
   "codemirror_mode": {
    "name": "ipython",
    "version": 3
   },
   "file_extension": ".py",
   "mimetype": "text/x-python",
   "name": "python",
   "nbconvert_exporter": "python",
   "pygments_lexer": "ipython3",
   "version": "3.12.11"
  }
 },
 "nbformat": 4,
 "nbformat_minor": 4
}
