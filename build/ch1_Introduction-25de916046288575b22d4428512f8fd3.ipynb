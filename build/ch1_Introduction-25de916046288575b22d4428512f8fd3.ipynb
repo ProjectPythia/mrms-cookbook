{
 "cells": [
  {
   "cell_type": "markdown",
   "metadata": {},
   "source": [
    "# Chapter 1: Multi Radar/ Multi Sensor (MRMS) System: Overview, Case Studies, and More!"
   ]
  },
  {
   "cell_type": "markdown",
   "metadata": {},
   "source": [
    "---"
   ]
  },
  {
   "cell_type": "markdown",
   "metadata": {},
   "source": [
    "## Overview\n",
    "This notebook introduces users to MRMS, informs users on MRMS data sources, shows useful websites, and provides context on variable names. Follow through the notebook to learn more about MRMS and ways it can be used to aid in your research and decision-making!"
   ]
  },
  {
   "cell_type": "markdown",
   "metadata": {},
   "source": [
    "---"
   ]
  },
  {
   "cell_type": "markdown",
   "metadata": {},
   "source": [
    "## MRMS System Overview"
   ]
  },
  {
   "cell_type": "markdown",
   "metadata": {},
   "source": [
    "### What is MRMS?\n",
    "The Multi-Radar/ Multi-Sensor (MRMS) System is a radar system developed by the National Severe Storms Laboratory (NSSL) that integrates data from satellites, radars, numerical prediction models, rain gauges, observations, and lightning reports into a standardized grid. Its goal is to provide smooth, high-resolution, and consistent weather products to inform decision-support services, aviation, transportation, numerical weather forecasting, hydrology, and public messaging.\n",
    "\n",
    "Key features include:\n",
    "* 3D radar mosaics\n",
    "* 1-km x 2-minute update cycle\n",
    "* Severe weather and aviation products\n",
    "* Covers CONUS, Alaska, Hawaii, (parts of) the Caribbean, Guam, and parts of southern Canada"
   ]
  },
  {
   "cell_type": "markdown",
   "metadata": {},
   "source": [
    "### MRMS Data Sources\n",
    "The MRMS integrates data from various sources to produce advanced weather products.\n",
    "\n",
    "* Radars: Weather Surveillance Radar (WSR-88D), Canadian radar networks, Terminal Doppler Weather Radars (TDWRs), commercial radars, and more. \n",
    "* Satellite: Geostationary Operational Environmental Satellite (GOES). Provides continuous data on atmospheric conditions.\n",
    "* Numerical prediction models: High Resolution Rapid Refresh (HRRR), Rapid Refresh (RAP).\n",
    "* Surface observations\n",
    "* Rain gauges: approximately 7,000 hourly rain gauge sensors, Hydrometeorological Automated Data System (HADS)\n",
    "* Lightning reports: National Lightning Detection Network (NLDN)\n"
   ]
  },
  {
   "cell_type": "markdown",
   "metadata": {},
   "source": [
    "### AWS Structure & Access\n",
    "\n",
    "To meet the demand for accessible, scalable, reliable, and timely data, MRMS hosts its data on Amazon Web Services (AWS). \n",
    "\n",
    "Accessing NOAA MRMS data on AWS is simple. [Just click this link to navigate to the dedicated MRMS suite on AWS](https://noaa-mrms-pds.s3.amazonaws.com/index.html), select your area of interest, e.g., Alaska, CONUS, Hawaii, etc., then select the variable(s) you wish to study.\n",
    "\n",
    "The next section talks more about some of the variables available and what they are.\n"
   ]
  },
  {
   "cell_type": "markdown",
   "metadata": {},
   "source": [
    "### MRMS Naming\n",
    "\n",
    "The MRMS has a wide range of variables you can use for your research and operations. [By clicking here](https://www.nssl.noaa.gov/projects/mrms/operational/tables.php), you can find the Operational MRMS GRIB2 Tables that detail the name of a dataset, frequencies, what unit the data is measured in, missing data, range folded, instances of no coverage, a description, and a notes column. \n",
    "\n",
    "In this Cookbook, we use the following variables: \n",
    "\n",
    "| Variable    | Description |\n",
    "| -------- | ------- |\n",
    "| RadarOnly_QPE_24H_00.00  | Radar precipitation accumulation 24-hour    |\n",
    "| MergedReflectivityQCComposite_00.50 | Composite Reflectivity Mosaic (optimal method)\t     |\n",
    "| MultiSensor_QPE_12H_Pass1_00.00    | Multi-sensor accumulation 12-hour (1-hour latency)\t    |\n",
    "| POSH_00.50\" | Prob of Severe Hail\t |\n",
    "| CREF_1HR_MAX_00.50 | Composite Reflectivity Hourly Maximum\t |\n",
    "| PrecipRate_00.00 | Radar Precipitation Rate\t |\n",
    "| MultiSensor_QPE_01H_Pass1_00.00 | Multi-sensor accumulation 1-hour (1-hour latency)\t |\n",
    "| MultiSensor_QPE_01H_Pass2_00.00 | Multi-sensor accumulation 1-hour (2-hour latency)\t |\n",
    "| RadarOnly_QPE_01H_00.00 | Radar precipitation accumulation 1-hour\t |\n",
    "|LowLevelCompositeReflectivity | Low-Level Composite Reflectivity Mosaic (0-4km)\t |\n",
    "\n"
   ]
  },
  {
   "cell_type": "markdown",
   "metadata": {},
   "source": [
    "---"
   ]
  },
  {
   "cell_type": "markdown",
   "metadata": {},
   "source": [
    "## Summary\n",
    "In summary, the MRMS System represents a robust and evolving platform that serves current research and operational needs, while paving ways for other innovations in decision-support services, aviation, transportation, numerical weather forecasting, hydrology, and public messaging.\n",
    "\n",
    "\n",
    "#### What's next?\n",
    "In the following notebooks, you will be introduced to MRMS use case scenarios. We look into the March 2023 Rolling Fork, MS Tornado, the 2025 Texas Flood, and more!"
   ]
  },
  {
   "cell_type": "markdown",
   "metadata": {},
   "source": [
    "## Resources\n",
    "To learn more about MRMS and its products, check out the links below!\n",
    "\n",
    "* [Multi Radar Multi Sensor Overview](https://www.nssl.noaa.gov/about/events/review2021/presentations/NSSL2021LabReviewMRMS.pdf)\n",
    "\n",
    "* [NSSL Multi-Radar/Multi-Sensor System (MRMS)](https://www.nssl.noaa.gov/projects/mrms/)\n",
    "\n",
    "* [Operational MRMS GRIB2 Table](https://www.nssl.noaa.gov/projects/mrms/operational/tables.php)\n",
    "\n",
    "\n",
    "* [MRMS on AWS](https://noaa-mrms-pds.s3.amazonaws.com/index.html)\n",
    "\n",
    "* [Article on MRMS Severe Weather and Aviation Products](https://journals.ametsoc.org/view/journals/bams/97/9/bams-d-14-00173.1.xml)\n",
    "\n",
    "* [Article on MRMS Quantitative Precipitation Estimates](https://journals.ametsoc.org/view/journals/bams/97/4/bams-d-14-00174.1.xml)"
   ]
  }
 ],
 "metadata": {
  "kernelspec": {
   "display_name": "Python 3 (ipykernel)",
   "language": "python",
   "name": "python3"
  },
  "language_info": {
   "codemirror_mode": {
    "name": "ipython",
    "version": 3
   },
   "file_extension": ".py",
   "mimetype": "text/x-python",
   "name": "python",
   "nbconvert_exporter": "python",
   "pygments_lexer": "ipython3",
   "version": "3.12.11"
  },
  "nbdime-conflicts": {
   "local_diff": [
    {
     "diff": [
      {
       "diff": [
        {
         "key": 0,
         "op": "addrange",
         "valuelist": [
          "Python 3"
         ]
        },
        {
         "key": 0,
         "length": 1,
         "op": "removerange"
        }
       ],
       "key": "display_name",
       "op": "patch"
      }
     ],
     "key": "kernelspec",
     "op": "patch"
    }
   ],
   "remote_diff": [
    {
     "diff": [
      {
       "diff": [
        {
         "key": 0,
         "op": "addrange",
         "valuelist": [
          "Python3"
         ]
        },
        {
         "key": 0,
         "length": 1,
         "op": "removerange"
        }
       ],
       "key": "display_name",
       "op": "patch"
      }
     ],
     "key": "kernelspec",
     "op": "patch"
    }
   ]
  },
  "toc-autonumbering": false
 },
 "nbformat": 4,
 "nbformat_minor": 4
}
